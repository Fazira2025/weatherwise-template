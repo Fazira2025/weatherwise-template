{
  "cells": [
    {
      "cell_type": "markdown",
      "metadata": {
        "id": "view-in-github",
        "colab_type": "text"
      },
      "source": [
        "<a href=\"https://colab.research.google.com/github/Fazira2025/weatherwise-template/blob/main/weather-wise-ziziharahap.ipynb\" target=\"_parent\"><img src=\"https://colab.research.google.com/assets/colab-badge.svg\" alt=\"Open In Colab\"/></a>"
      ]
    },
    {
      "cell_type": "markdown",
      "id": "72e78a05",
      "metadata": {
        "id": "72e78a05"
      },
      "source": [
        "# 🌦️ WeatherWise – Starter Notebook\n",
        "\n",
        "Welcome to your **WeatherWise** project!\n"
      ]
    },
    {
      "cell_type": "markdown",
      "id": "fa8c7f6c",
      "metadata": {
        "id": "fa8c7f6c"
      },
      "source": [
        "## 🧰 Setup and Imports\n"
      ]
    },
    {
      "cell_type": "code",
      "execution_count": 68,
      "id": "70c3f3f1",
      "metadata": {
        "id": "70c3f3f1",
        "collapsed": true,
        "colab": {
          "base_uri": "https://localhost:8080/"
        },
        "outputId": "3e3d7364-80b3-44c6-bfae-bec37bbf5772"
      },
      "outputs": [
        {
          "output_type": "stream",
          "name": "stdout",
          "text": [
            "Requirement already satisfied: ipywidgets in /usr/local/lib/python3.11/dist-packages (7.7.1)\n",
            "Requirement already satisfied: ipykernel>=4.5.1 in /usr/local/lib/python3.11/dist-packages (from ipywidgets) (6.17.1)\n",
            "Requirement already satisfied: ipython-genutils~=0.2.0 in /usr/local/lib/python3.11/dist-packages (from ipywidgets) (0.2.0)\n",
            "Requirement already satisfied: traitlets>=4.3.1 in /usr/local/lib/python3.11/dist-packages (from ipywidgets) (5.7.1)\n",
            "Requirement already satisfied: widgetsnbextension~=3.6.0 in /usr/local/lib/python3.11/dist-packages (from ipywidgets) (3.6.10)\n",
            "Requirement already satisfied: ipython>=4.0.0 in /usr/local/lib/python3.11/dist-packages (from ipywidgets) (7.34.0)\n",
            "Requirement already satisfied: jupyterlab-widgets>=1.0.0 in /usr/local/lib/python3.11/dist-packages (from ipywidgets) (3.0.15)\n",
            "Requirement already satisfied: debugpy>=1.0 in /usr/local/lib/python3.11/dist-packages (from ipykernel>=4.5.1->ipywidgets) (1.8.0)\n",
            "Requirement already satisfied: jupyter-client>=6.1.12 in /usr/local/lib/python3.11/dist-packages (from ipykernel>=4.5.1->ipywidgets) (6.1.12)\n",
            "Requirement already satisfied: matplotlib-inline>=0.1 in /usr/local/lib/python3.11/dist-packages (from ipykernel>=4.5.1->ipywidgets) (0.1.7)\n",
            "Requirement already satisfied: nest-asyncio in /usr/local/lib/python3.11/dist-packages (from ipykernel>=4.5.1->ipywidgets) (1.6.0)\n",
            "Requirement already satisfied: packaging in /usr/local/lib/python3.11/dist-packages (from ipykernel>=4.5.1->ipywidgets) (24.2)\n",
            "Requirement already satisfied: psutil in /usr/local/lib/python3.11/dist-packages (from ipykernel>=4.5.1->ipywidgets) (5.9.5)\n",
            "Requirement already satisfied: pyzmq>=17 in /usr/local/lib/python3.11/dist-packages (from ipykernel>=4.5.1->ipywidgets) (24.0.1)\n",
            "Requirement already satisfied: tornado>=6.1 in /usr/local/lib/python3.11/dist-packages (from ipykernel>=4.5.1->ipywidgets) (6.4.2)\n",
            "Requirement already satisfied: setuptools>=18.5 in /usr/local/lib/python3.11/dist-packages (from ipython>=4.0.0->ipywidgets) (75.2.0)\n",
            "Requirement already satisfied: jedi>=0.16 in /usr/local/lib/python3.11/dist-packages (from ipython>=4.0.0->ipywidgets) (0.19.2)\n",
            "Requirement already satisfied: decorator in /usr/local/lib/python3.11/dist-packages (from ipython>=4.0.0->ipywidgets) (4.4.2)\n",
            "Requirement already satisfied: pickleshare in /usr/local/lib/python3.11/dist-packages (from ipython>=4.0.0->ipywidgets) (0.7.5)\n",
            "Requirement already satisfied: prompt-toolkit!=3.0.0,!=3.0.1,<3.1.0,>=2.0.0 in /usr/local/lib/python3.11/dist-packages (from ipython>=4.0.0->ipywidgets) (3.0.51)\n",
            "Requirement already satisfied: pygments in /usr/local/lib/python3.11/dist-packages (from ipython>=4.0.0->ipywidgets) (2.19.1)\n",
            "Requirement already satisfied: backcall in /usr/local/lib/python3.11/dist-packages (from ipython>=4.0.0->ipywidgets) (0.2.0)\n",
            "Requirement already satisfied: pexpect>4.3 in /usr/local/lib/python3.11/dist-packages (from ipython>=4.0.0->ipywidgets) (4.9.0)\n",
            "Requirement already satisfied: notebook>=4.4.1 in /usr/local/lib/python3.11/dist-packages (from widgetsnbextension~=3.6.0->ipywidgets) (6.5.7)\n",
            "Requirement already satisfied: parso<0.9.0,>=0.8.4 in /usr/local/lib/python3.11/dist-packages (from jedi>=0.16->ipython>=4.0.0->ipywidgets) (0.8.4)\n",
            "Requirement already satisfied: jupyter-core>=4.6.0 in /usr/local/lib/python3.11/dist-packages (from jupyter-client>=6.1.12->ipykernel>=4.5.1->ipywidgets) (5.7.2)\n",
            "Requirement already satisfied: python-dateutil>=2.1 in /usr/local/lib/python3.11/dist-packages (from jupyter-client>=6.1.12->ipykernel>=4.5.1->ipywidgets) (2.9.0.post0)\n",
            "Requirement already satisfied: jinja2 in /usr/local/lib/python3.11/dist-packages (from notebook>=4.4.1->widgetsnbextension~=3.6.0->ipywidgets) (3.1.6)\n",
            "Requirement already satisfied: argon2-cffi in /usr/local/lib/python3.11/dist-packages (from notebook>=4.4.1->widgetsnbextension~=3.6.0->ipywidgets) (23.1.0)\n",
            "Requirement already satisfied: nbformat in /usr/local/lib/python3.11/dist-packages (from notebook>=4.4.1->widgetsnbextension~=3.6.0->ipywidgets) (5.10.4)\n",
            "Requirement already satisfied: nbconvert>=5 in /usr/local/lib/python3.11/dist-packages (from notebook>=4.4.1->widgetsnbextension~=3.6.0->ipywidgets) (7.16.6)\n",
            "Requirement already satisfied: Send2Trash>=1.8.0 in /usr/local/lib/python3.11/dist-packages (from notebook>=4.4.1->widgetsnbextension~=3.6.0->ipywidgets) (1.8.3)\n",
            "Requirement already satisfied: terminado>=0.8.3 in /usr/local/lib/python3.11/dist-packages (from notebook>=4.4.1->widgetsnbextension~=3.6.0->ipywidgets) (0.18.1)\n",
            "Requirement already satisfied: prometheus-client in /usr/local/lib/python3.11/dist-packages (from notebook>=4.4.1->widgetsnbextension~=3.6.0->ipywidgets) (0.21.1)\n",
            "Requirement already satisfied: nbclassic>=0.4.7 in /usr/local/lib/python3.11/dist-packages (from notebook>=4.4.1->widgetsnbextension~=3.6.0->ipywidgets) (1.3.1)\n",
            "Requirement already satisfied: ptyprocess>=0.5 in /usr/local/lib/python3.11/dist-packages (from pexpect>4.3->ipython>=4.0.0->ipywidgets) (0.7.0)\n",
            "Requirement already satisfied: wcwidth in /usr/local/lib/python3.11/dist-packages (from prompt-toolkit!=3.0.0,!=3.0.1,<3.1.0,>=2.0.0->ipython>=4.0.0->ipywidgets) (0.2.13)\n",
            "Requirement already satisfied: platformdirs>=2.5 in /usr/local/lib/python3.11/dist-packages (from jupyter-core>=4.6.0->jupyter-client>=6.1.12->ipykernel>=4.5.1->ipywidgets) (4.3.8)\n",
            "Requirement already satisfied: notebook-shim>=0.2.3 in /usr/local/lib/python3.11/dist-packages (from nbclassic>=0.4.7->notebook>=4.4.1->widgetsnbextension~=3.6.0->ipywidgets) (0.2.4)\n",
            "Requirement already satisfied: beautifulsoup4 in /usr/local/lib/python3.11/dist-packages (from nbconvert>=5->notebook>=4.4.1->widgetsnbextension~=3.6.0->ipywidgets) (4.13.4)\n",
            "Requirement already satisfied: bleach!=5.0.0 in /usr/local/lib/python3.11/dist-packages (from bleach[css]!=5.0.0->nbconvert>=5->notebook>=4.4.1->widgetsnbextension~=3.6.0->ipywidgets) (6.2.0)\n",
            "Requirement already satisfied: defusedxml in /usr/local/lib/python3.11/dist-packages (from nbconvert>=5->notebook>=4.4.1->widgetsnbextension~=3.6.0->ipywidgets) (0.7.1)\n",
            "Requirement already satisfied: jupyterlab-pygments in /usr/local/lib/python3.11/dist-packages (from nbconvert>=5->notebook>=4.4.1->widgetsnbextension~=3.6.0->ipywidgets) (0.3.0)\n",
            "Requirement already satisfied: markupsafe>=2.0 in /usr/local/lib/python3.11/dist-packages (from nbconvert>=5->notebook>=4.4.1->widgetsnbextension~=3.6.0->ipywidgets) (3.0.2)\n",
            "Requirement already satisfied: mistune<4,>=2.0.3 in /usr/local/lib/python3.11/dist-packages (from nbconvert>=5->notebook>=4.4.1->widgetsnbextension~=3.6.0->ipywidgets) (3.1.3)\n",
            "Requirement already satisfied: nbclient>=0.5.0 in /usr/local/lib/python3.11/dist-packages (from nbconvert>=5->notebook>=4.4.1->widgetsnbextension~=3.6.0->ipywidgets) (0.10.2)\n",
            "Requirement already satisfied: pandocfilters>=1.4.1 in /usr/local/lib/python3.11/dist-packages (from nbconvert>=5->notebook>=4.4.1->widgetsnbextension~=3.6.0->ipywidgets) (1.5.1)\n",
            "Requirement already satisfied: fastjsonschema>=2.15 in /usr/local/lib/python3.11/dist-packages (from nbformat->notebook>=4.4.1->widgetsnbextension~=3.6.0->ipywidgets) (2.21.1)\n",
            "Requirement already satisfied: jsonschema>=2.6 in /usr/local/lib/python3.11/dist-packages (from nbformat->notebook>=4.4.1->widgetsnbextension~=3.6.0->ipywidgets) (4.23.0)\n",
            "Requirement already satisfied: six>=1.5 in /usr/local/lib/python3.11/dist-packages (from python-dateutil>=2.1->jupyter-client>=6.1.12->ipykernel>=4.5.1->ipywidgets) (1.17.0)\n",
            "Requirement already satisfied: argon2-cffi-bindings in /usr/local/lib/python3.11/dist-packages (from argon2-cffi->notebook>=4.4.1->widgetsnbextension~=3.6.0->ipywidgets) (21.2.0)\n",
            "Requirement already satisfied: webencodings in /usr/local/lib/python3.11/dist-packages (from bleach!=5.0.0->bleach[css]!=5.0.0->nbconvert>=5->notebook>=4.4.1->widgetsnbextension~=3.6.0->ipywidgets) (0.5.1)\n",
            "Requirement already satisfied: tinycss2<1.5,>=1.1.0 in /usr/local/lib/python3.11/dist-packages (from bleach[css]!=5.0.0->nbconvert>=5->notebook>=4.4.1->widgetsnbextension~=3.6.0->ipywidgets) (1.4.0)\n",
            "Requirement already satisfied: attrs>=22.2.0 in /usr/local/lib/python3.11/dist-packages (from jsonschema>=2.6->nbformat->notebook>=4.4.1->widgetsnbextension~=3.6.0->ipywidgets) (25.3.0)\n",
            "Requirement already satisfied: jsonschema-specifications>=2023.03.6 in /usr/local/lib/python3.11/dist-packages (from jsonschema>=2.6->nbformat->notebook>=4.4.1->widgetsnbextension~=3.6.0->ipywidgets) (2025.4.1)\n",
            "Requirement already satisfied: referencing>=0.28.4 in /usr/local/lib/python3.11/dist-packages (from jsonschema>=2.6->nbformat->notebook>=4.4.1->widgetsnbextension~=3.6.0->ipywidgets) (0.36.2)\n",
            "Requirement already satisfied: rpds-py>=0.7.1 in /usr/local/lib/python3.11/dist-packages (from jsonschema>=2.6->nbformat->notebook>=4.4.1->widgetsnbextension~=3.6.0->ipywidgets) (0.24.0)\n",
            "Requirement already satisfied: jupyter-server<3,>=1.8 in /usr/local/lib/python3.11/dist-packages (from notebook-shim>=0.2.3->nbclassic>=0.4.7->notebook>=4.4.1->widgetsnbextension~=3.6.0->ipywidgets) (1.16.0)\n",
            "Requirement already satisfied: cffi>=1.0.1 in /usr/local/lib/python3.11/dist-packages (from argon2-cffi-bindings->argon2-cffi->notebook>=4.4.1->widgetsnbextension~=3.6.0->ipywidgets) (1.17.1)\n",
            "Requirement already satisfied: soupsieve>1.2 in /usr/local/lib/python3.11/dist-packages (from beautifulsoup4->nbconvert>=5->notebook>=4.4.1->widgetsnbextension~=3.6.0->ipywidgets) (2.7)\n",
            "Requirement already satisfied: typing-extensions>=4.0.0 in /usr/local/lib/python3.11/dist-packages (from beautifulsoup4->nbconvert>=5->notebook>=4.4.1->widgetsnbextension~=3.6.0->ipywidgets) (4.13.2)\n",
            "Requirement already satisfied: pycparser in /usr/local/lib/python3.11/dist-packages (from cffi>=1.0.1->argon2-cffi-bindings->argon2-cffi->notebook>=4.4.1->widgetsnbextension~=3.6.0->ipywidgets) (2.22)\n",
            "Requirement already satisfied: anyio>=3.1.0 in /usr/local/lib/python3.11/dist-packages (from jupyter-server<3,>=1.8->notebook-shim>=0.2.3->nbclassic>=0.4.7->notebook>=4.4.1->widgetsnbextension~=3.6.0->ipywidgets) (4.9.0)\n",
            "Requirement already satisfied: websocket-client in /usr/local/lib/python3.11/dist-packages (from jupyter-server<3,>=1.8->notebook-shim>=0.2.3->nbclassic>=0.4.7->notebook>=4.4.1->widgetsnbextension~=3.6.0->ipywidgets) (1.8.0)\n",
            "Requirement already satisfied: idna>=2.8 in /usr/local/lib/python3.11/dist-packages (from anyio>=3.1.0->jupyter-server<3,>=1.8->notebook-shim>=0.2.3->nbclassic>=0.4.7->notebook>=4.4.1->widgetsnbextension~=3.6.0->ipywidgets) (3.10)\n",
            "Requirement already satisfied: sniffio>=1.1 in /usr/local/lib/python3.11/dist-packages (from anyio>=3.1.0->jupyter-server<3,>=1.8->notebook-shim>=0.2.3->nbclassic>=0.4.7->notebook>=4.4.1->widgetsnbextension~=3.6.0->ipywidgets) (1.3.1)\n"
          ]
        }
      ],
      "source": [
        "# 🧪 Optional packages — uncomment if needed in Colab or JupyterHub\n",
        "!pip install ipywidgets\n",
        "from google.colab import output\n",
        "output.enable_custom_widget_manager()\n"
      ]
    },
    {
      "cell_type": "markdown",
      "id": "59ae7543",
      "metadata": {
        "id": "59ae7543"
      },
      "source": [
        "## 📦 Setup and Configuration\n",
        "Import required packages and setup environment."
      ]
    },
    {
      "cell_type": "code",
      "execution_count": 69,
      "id": "f1dd051e",
      "metadata": {
        "id": "f1dd051e"
      },
      "outputs": [],
      "source": [
        "# Add any other setup code here\n",
        "import requests\n",
        "import matplotlib.pyplot as plt\n",
        "import re\n",
        "from datetime import datetime, timedelta\n",
        "import ipywidgets as widgets\n",
        "from IPython.display import display, clear_output"
      ]
    },
    {
      "cell_type": "markdown",
      "id": "f736ade3",
      "metadata": {
        "id": "f736ade3"
      },
      "source": [
        "## 🌤️ Weather Data Functions"
      ]
    },
    {
      "cell_type": "code",
      "execution_count": 70,
      "id": "7a2c7cd0",
      "metadata": {
        "id": "7a2c7cd0"
      },
      "outputs": [],
      "source": [
        "# Define get_weather_data() function here\n",
        "def get_weather_data(location, format_type='plaintext'):\n",
        "    \"\"\"\n",
        "    Get weather data from wttr.in API\n",
        "    Args:\n",
        "        location (str): City name or location\n",
        "    Returns:\n",
        "        str: Weather data in text format or None if an error occurs\n",
        "    Raises:\n",
        "        Various requests exceptions which are caught and printed\n",
        "    \"\"\"\n",
        "    try:\n",
        "        if format_type.lower() == \"json\":\n",
        "            url = f'https://wttr.in/{location}?format=j1'\n",
        "        else:\n",
        "            url = f'https://wttr.in/{location}'\n",
        "\n",
        "        response = requests.get(url, timeout=10)\n",
        "        response.raise_for_status()\n",
        "\n",
        "        if format_type.lower() == \"json\":\n",
        "            return response.json()\n",
        "        else:\n",
        "            print(response.text)\n",
        "            return None\n",
        "    except requests.exceptions.HTTPError as errh:\n",
        "        print(f\"HTTP Error: {errh}\")\n",
        "    except requests.exceptions.ConnectionError as errc:\n",
        "        print(f\"Connection Error: {errc}\")\n",
        "    except requests.exceptions.Timeout as errt:\n",
        "        print(f\"Timeout Error: {errt}\")\n",
        "    except requests.exceptions.TooManyRedirects as errr:\n",
        "        print(f\"Redirect Error: {errr}\")\n",
        "    except requests.exceptions.RequestException as err:\n",
        "        print(f\"Unknown Error: {err}\")\n",
        "\n",
        "    return None"
      ]
    },
    {
      "cell_type": "markdown",
      "id": "8a744fdc",
      "metadata": {
        "id": "8a744fdc"
      },
      "source": [
        "## 📊 Visualisation Functions"
      ]
    },
    {
      "cell_type": "code",
      "execution_count": 71,
      "id": "9dc3bf85",
      "metadata": {
        "id": "9dc3bf85"
      },
      "outputs": [],
      "source": [
        "# Define create_temperature_visualisation() and create_precipitation_visualisation() here\n",
        "# Define specific keywords for each weather condition #list_dictionary\n",
        "def get_emoji(weather_desc):\n",
        "    \"\"\"\n",
        "    Return an emoji corresponding to the weather description.\n",
        "    \"\"\"\n",
        "    weather_lower = weather_desc.lower()\n",
        "\n",
        "    rain_keywords = ['rain', 'drizzle', 'shower', 'thundery outbreaks', 'downpour', 'wet']\n",
        "    snow_keywords = ['snow', 'blizzard', 'sleet', 'ice', 'hail', 'flurry']\n",
        "    cloud_keywords = ['cloud', 'overcast', 'mist', 'fog', 'haze', 'partly cloudy', 'scattered clouds']\n",
        "    fog_keywords = ['mist', 'fog', 'haze']\n",
        "    sun_keywords = ['sunny', 'clear', 'fair', 'hot', 'bright', 'clear skies', 'clear weather']\n",
        "    wind_keywords = ['wind', 'gale', 'storm', 'breeze', 'gust']\n",
        "\n",
        " # Rain conditions\n",
        "    if any(word in weather_lower for word in rain_keywords):\n",
        "        if 'thunder' in weather_lower or 'storm' in weather_lower or 'thundery outbreaks' in weather_lower:\n",
        "            return '⛈️'  # Thunderstorm\n",
        "        elif 'light' in weather_lower or 'patchy' in weather_lower:\n",
        "            return '🌦️'  # Sun behind rain cloud\n",
        "        else:\n",
        "            return '🌧️'  # Rain cloud\n",
        "\n",
        "    # Snow conditions\n",
        "    elif any(word in weather_lower for word in snow_keywords):\n",
        "        if 'light' in weather_lower or 'patchy' in weather_lower:\n",
        "            return '🌨️'  # Snow cloud\n",
        "        else:\n",
        "            return '❄️'  # Snowflake\n",
        "\n",
        "    # Cloud conditions\n",
        "    elif any(word in weather_lower for word in cloud_keywords):\n",
        "        if 'fog' in weather_lower or 'mist' in weather_lower:\n",
        "            return '🌫️'  # Fog\n",
        "        elif 'overcast' in weather_lower:\n",
        "            return '☁️'  # Cloudy weather\n",
        "        elif 'partly' in weather_lower or 'scattered' in weather_lower:\n",
        "            return '⛅'  # Sun behind cloud\n",
        "        else:\n",
        "            return '☁️'  # Cloud\n",
        "\n",
        "    # Clear conditions (sunny/fair weather)\n",
        "    elif any(word in weather_lower for word in sun_keywords):\n",
        "        return '☀️'  # Sun\n",
        "\n",
        "    # Wind conditions\n",
        "    elif any(word in weather_lower for word in wind_keywords):\n",
        "        return '💨'  # Wind blowing\n",
        "\n",
        "    # Fog conditions\n",
        "    elif any(word in weather_lower for word in fog_keywords):\n",
        "        return '🌫️'  # Wind blowing\n",
        "\n",
        "    # Default (unknown or undefined weather)\n",
        "    else:\n",
        "        return '🌡️'  # Thermometer (default)\n",
        "\n",
        "def create_temperature_visualisation(location, target_date):\n",
        "    data = get_weather_data(location, format_type=\"json\")\n",
        "    if data is None:\n",
        "        print(\"Failed to retrieve weather data.\")\n",
        "        return None\n",
        "\n",
        "    try:\n",
        "        weather_days = data['weather']  # List of daily forecasts\n",
        "    except KeyError:\n",
        "        print(\"Unexpected data format.\")\n",
        "        return None\n",
        "\n",
        "    target_date_str = target_date.strftime(\"%Y-%m-%d\")\n",
        "\n",
        "    for day in weather_days:\n",
        "        if day.get('date') == target_date_str:\n",
        "            date = day.get('date', 'Unknown Date')\n",
        "            try:\n",
        "                dt_obj = datetime.strptime(date, \"%Y-%m-%d\")\n",
        "                formatted_date = dt_obj.strftime(\"%A, %d %B %Y\")\n",
        "            except Exception:\n",
        "                formatted_date = date\n",
        "\n",
        "            weather_desc = day.get('hourly', [{}])[4].get('weatherDesc', [{'value': 'N/A'}])[0]['value']\n",
        "            mintempC = day.get('mintempC', 'N/A')\n",
        "            maxtempC = day.get('maxtempC', 'N/A')\n",
        "            avgtempC = day.get('avgtempC', 'N/A')\n",
        "            weather_emoji = get_emoji(weather_desc)\n",
        "\n",
        "            # Return data dictionary instead of printing\n",
        "            return {\n",
        "                \"location\": location.capitalize(),\n",
        "                \"date\": formatted_date,\n",
        "                \"weather_desc\": weather_desc,\n",
        "                \"weather_emoji\": weather_emoji,\n",
        "                \"min_temp\": mintempC,\n",
        "                \"max_temp\": maxtempC,\n",
        "                \"avg_temp\": avgtempC\n",
        "            }\n",
        "    print(f\"No weather data found for {target_date_str}.\")\n",
        "    return None"
      ]
    },
    {
      "cell_type": "code",
      "source": [
        "def create_precipitation_visualisation(location, day_index=0):\n",
        "    data = get_weather_data(location, 'json')\n",
        "    if not data:\n",
        "        print(\"Failed to get data.\")\n",
        "        return\n",
        "\n",
        "    hourly = data['weather'][day_index]['hourly']\n",
        "    times = [f\"{int(h['time'])//100:02d}:00\" for h in hourly]\n",
        "    precip = [float(h['precipMM']) for h in hourly]\n",
        "    rain_chance = [int(h['chanceofrain']) for h in hourly]\n",
        "\n",
        "    fig, ax1 = plt.subplots()\n",
        "\n",
        "    ax1.plot(times, precip, 'b-o', label='Precipitation (mm)')\n",
        "    ax1.set_xlabel('24 Hour')\n",
        "    ax1.set_ylabel('Precipitation (mm)', color='b')\n",
        "    ax1.tick_params(axis='y', labelcolor='b')\n",
        "\n",
        "    ax2 = ax1.twinx()\n",
        "    ax2.plot(times, rain_chance, 'g--x', label='Chance of Rain (%)')\n",
        "    ax2.set_ylabel('Chance of Rain (%)', color='g')\n",
        "    ax2.tick_params(axis='y', labelcolor='g')\n",
        "\n",
        "    if day_index == 0:\n",
        "        days = 'Today'\n",
        "    elif day_index == 1:\n",
        "        days = 'Tomorrow'\n",
        "    else:\n",
        "        days = 'After-Tomorrow'\n",
        "\n",
        "    plt.title(f'{days} Graphical Representation of Precipitation and Rainfall Probability at {location.capitalize()}')\n",
        "    plt.grid(True)\n",
        "    plt.show()"
      ],
      "metadata": {
        "id": "HpOlQylYG5Ho"
      },
      "id": "HpOlQylYG5Ho",
      "execution_count": 72,
      "outputs": []
    },
    {
      "cell_type": "markdown",
      "id": "9f95d160",
      "metadata": {
        "id": "9f95d160"
      },
      "source": [
        "## 🤖 Natural Language Processing"
      ]
    },
    {
      "cell_type": "code",
      "execution_count": 73,
      "id": "bcc5833e",
      "metadata": {
        "id": "bcc5833e"
      },
      "outputs": [],
      "source": [
        "# Define parse_weather_question() and generate_weather_response() here\n",
        "def parse_weather_question(question, location):\n",
        "    # Define regex pattern to detect time\n",
        "    time_pattern = r\"(today|tomorrow|after[-\\s]?tomorrow|day[-\\s]?after[-\\s]?tomorrow)\"\n",
        "\n",
        "    # Lists of outdoor and indoor activities\n",
        "    outdoor_activities = r\"(run|swim|sports|tennis|cycling|hiking|jogging|fishing|camping)\"\n",
        "    indoor_activities = r\"(cooking|reading|studying|watching movies|baking|painting|knitting|gaming)\"\n",
        "\n",
        "    # Search for time in the question\n",
        "    time_match = re.search(time_pattern, question, re.IGNORECASE)\n",
        "    # Search for outdoor activity\n",
        "    outdoor_match = re.search(outdoor_activities, question, re.IGNORECASE)\n",
        "    # Search for indoor activity\n",
        "    indoor_match = re.search(indoor_activities, question, re.IGNORECASE)\n",
        "\n",
        "    # Default time to \"today\" if not found\n",
        "    time = \"today\"\n",
        "    activity = None  # Default no activity found\n",
        "    activity_type = None  # Default no activity type found\n",
        "\n",
        "    if time_match:\n",
        "        time = time_match.group(1).lower()  # Extract time (today, tomorrow, after-tomorrow)\n",
        "\n",
        "    if outdoor_match:\n",
        "        activity = outdoor_match.group(1).lower()\n",
        "        activity_type = \"Outdoor\"\n",
        "    elif indoor_match:\n",
        "        activity = indoor_match.group(1).lower()\n",
        "        activity_type = \"Indoor\"\n",
        "\n",
        "    # Calculate target date based on time\n",
        "    target_date = datetime.now()\n",
        "    if time == \"tomorrow\":\n",
        "        target_date += timedelta(days=1)\n",
        "    elif time in [\"after-tomorrow\", \"day after tomorrow\"]:\n",
        "        target_date += timedelta(days=2)\n",
        "\n",
        "    # Call function to display weather based on location and date\n",
        "    if location and activity and activity_type:\n",
        "        weather = create_temperature_visualisation(location, target_date)\n",
        "        if weather is None:\n",
        "            print(\"Weather data not available.\")\n",
        "            return\n",
        "\n",
        "        response = generate_weather_response(\n",
        "            location=weather['location'],\n",
        "            date_str=weather['date'],\n",
        "            activity=activity,\n",
        "            activity_type=activity_type,\n",
        "            weather_desc=weather['weather_desc'],\n",
        "            weather_emoji=weather['weather_emoji'],\n",
        "            min_temp=weather['min_temp'],\n",
        "            max_temp=weather['max_temp'],\n",
        "            avg_temp=weather['avg_temp'],\n",
        "            time = time\n",
        "        )\n",
        "        print(response)\n",
        "    else:\n",
        "        print(\"Could not detect location, activity, or time properly.\")\n",
        "\n",
        "def generate_weather_response(location,time, date_str, activity, activity_type, weather_desc, weather_emoji, min_temp, max_temp, avg_temp):\n",
        "    desc = weather_desc.lower()\n",
        "    avg_temp = float(avg_temp)\n",
        "\n",
        "    bad_weather_keywords = ['rain', 'thunder', 'fog', 'mist', 'shower', 'snow', 'drizzle', 'downpour', 'blizzard', 'sleet', 'ice', 'hail', 'flurry']\n",
        "\n",
        "    bad_weather = any(word in desc for word in bad_weather_keywords)\n",
        "\n",
        "    if activity_type.lower() == \"outdoor\":\n",
        "        if bad_weather or avg_temp < 15:\n",
        "            suggestion = (f\"The weather is bad or cold ({avg_temp}°C), so outdoor activities like {activity} are not recommended. Better to stay indoors.\")\n",
        "        elif 15 <= avg_temp <= 30:\n",
        "            suggestion = (f\"The weather and temperature ({avg_temp}°C) are comfortable, perfect for outdoor activities like {activity}.\")\n",
        "        else:\n",
        "            suggestion = (f\"It's very hot ({avg_temp}°C). Even if weather is good, be careful doing outdoor activities like {activity}. Indoor activities are recommended.\")\n",
        "    else:  # indoor\n",
        "        if bad_weather or avg_temp < 15:\n",
        "            suggestion = (f\"The weather is bad or cold ({avg_temp}°C), so indoor activities like {activity} are the best choice.\")\n",
        "        else:\n",
        "            suggestion = (f\"The weather is good ({avg_temp}°C). Indoor activities like {activity} are fine, but you could also try outdoor activities like jogging or basketball.\")\n",
        "\n",
        "    return (\n",
        "        \"\\n\" + \"-\" * 53\n",
        "        +\"\\n\" + \" \" * 20 + \"ACTIVITY SUGGESTION\"\n",
        "        +\"\\n\" + \"-\" * 53\n",
        "        +\"\\n\" + f\"📍 Location   : {location}\"\n",
        "        +\"\\n\" + f\"📅 Date       : {time.capitalize()}, {date_str}\"\n",
        "        +\"\\n\" + f\"🏃 Activity   : ({activity_type.capitalize()}) - {activity.capitalize()}\"\n",
        "        +\"\\n\" + f\"🌤️ Weather    : {weather_emoji} - {weather_desc}\"\n",
        "        +\"\\n\" + f\"🌡️ Temperature: Min {min_temp}°C | Max {max_temp}°C | Avg {avg_temp}°C\"\n",
        "        +\"\\n\"\n",
        "        +\"\\n\" + \"✅ Suggestion:\"\n",
        "        +\"\\n\" + f\"{time.capitalize()}, \" +suggestion\n",
        "        +\"\\n\" +\"-\" * 53 + \"\\n\"\n",
        "    )\n"
      ]
    },
    {
      "cell_type": "markdown",
      "id": "0d85225e",
      "metadata": {
        "id": "0d85225e"
      },
      "source": [
        "## 🧭 User Interface"
      ]
    },
    {
      "cell_type": "code",
      "execution_count": 74,
      "id": "fa6cb0f6",
      "metadata": {
        "id": "fa6cb0f6"
      },
      "outputs": [],
      "source": [
        "# Define menu functions using pyinputplus or ipywidgets here\n",
        "# Global variables\n",
        "user_info = {'name': '', 'location': ''}\n",
        "name_input = widgets.Text(description='🤖', layout=widgets.Layout(width='300px'), placeholder='Hi! Please enter your name')\n",
        "location_input = widgets.Text(description='🤖', layout=widgets.Layout(width='300px'), placeholder='Which location would you check?')\n",
        "btn_start = widgets.Button(description='Start', layout=widgets.Layout(margin='10px 0 0 90px'))\n",
        "input_box = widgets.VBox()\n",
        "output = widgets.Output()\n",
        "\n",
        "def main():\n",
        "    def show_menu():\n",
        "        with output:\n",
        "            clear_output(wait=True)\n",
        "            name = user_info['name']\n",
        "            location = user_info['location']\n",
        "\n",
        "            print(f'🤖 Hello! {name}, Welcome to Weather Wise. How can I help you at {location}?')\n",
        "            print(\"-\" * 53)\n",
        "            print('Please enter your choice (1 - 5):')\n",
        "            print(f'1. Check Current Weather & View Weather Forecast at {location}')\n",
        "            print(f'2. Check Current Weather Hourly at {location}')\n",
        "            print(f'3. Activities Suggestions & Weather Prediction assistant at {location}')\n",
        "            print('4. Check Other Location')\n",
        "            print('5. Exit Program')\n",
        "\n",
        "            input_choose = widgets.Text(description=\"🤖\", placeholder='Enter your choice (1-5)')\n",
        "            btn_choose = widgets.Button(description=\"Check\", layout=widgets.Layout(margin='10px 0 0 90px'))\n",
        "            choose_box = widgets.VBox([input_choose, btn_choose])\n",
        "\n",
        "            def on_menu_select(b):\n",
        "                choose_box.close()\n",
        "                with output:\n",
        "                    clear_output(wait=True)\n",
        "                    pilihan = input_choose.value.strip()\n",
        "                    if pilihan == '1':\n",
        "                        get_weather_data(location)\n",
        "                    elif pilihan == '2':\n",
        "                        data_cuaca = get_weather_data(location,format_type=\"json\")\n",
        "                        if data_cuaca:\n",
        "                            day_dropdown = widgets.Dropdown(\n",
        "                                options=[('Today', 0), ('Tomorrow', 1), ('Day After Tomorrow', 2)],\n",
        "                                value=0,\n",
        "                                description='Select day:',\n",
        "                            )\n",
        "                            out = widgets.Output()  # Output widget to capture and show plot/output\n",
        "\n",
        "                            def on_day_change(change):\n",
        "                                if change['type'] == 'change' and change['name'] == 'value':\n",
        "                                    with out:\n",
        "                                        out.clear_output()  # Clear previous output\n",
        "                                        day_index = change['new']\n",
        "                                        create_precipitation_visualisation(location, day_index)\n",
        "                            day_dropdown.observe(on_day_change)\n",
        "\n",
        "                            display(day_dropdown, out)  # Display the dropdown and output area\n",
        "                        else:\n",
        "                            print(\"Failed to download..\")\n",
        "                    elif pilihan == '3':\n",
        "                        question_text = widgets.Text(description=\"Question:\", placeholder='ex: How about running today?')\n",
        "                        submit_q = widgets.Button(description=\"Submit\", layout=widgets.Layout(margin='10px 0 0 90px'))\n",
        "                        activity_output = widgets.Output()  # ⬅️ Output untuk menampilkan jawaban nanti\n",
        "                        question_box = widgets.VBox([widgets.Label(\"What Activities & When (Today, Tomorrow, Day After Tomorrow)?\"),\n",
        "                                                    question_text, submit_q, activity_output])\n",
        "\n",
        "                        def on_submit_q(btn):\n",
        "                            with activity_output:\n",
        "                                clear_output()\n",
        "                                question = question_text.value\n",
        "                                parse_weather_question(question, location)\n",
        "                            show_back_button()\n",
        "\n",
        "                        submit_q.on_click(on_submit_q)\n",
        "\n",
        "                        # ⬇️ Tampilkan elemen input (pindahkan ke luar with output:)\n",
        "                        display(question_box)\n",
        "                        return  # ⬅️ Jangan lupa return agar tidak lanjut ke bawah\n",
        "                    elif pilihan == '4':\n",
        "                      new_location = widgets.Text(description='🤖', placeholder='Enter New Location')\n",
        "                      update_btn = widgets.Button(description=\"Update Location\", layout=widgets.Layout(margin='10px 0 0 90px'))\n",
        "                      location_output = widgets.Output()\n",
        "                      location_box = widgets.VBox([new_location, update_btn, location_output])\n",
        "\n",
        "                      def on_update_location(btn):\n",
        "                          with location_output:\n",
        "                              clear_output()\n",
        "                              loc = new_location.value.strip()\n",
        "                              if not loc:\n",
        "                                  print(\"⚠️ Please enter a location before updating.\")\n",
        "                              else:\n",
        "                                  user_info['location'] = loc\n",
        "                                  print(f\"📍 Your New Location: {user_info['location']}\")\n",
        "                          # ⬇️ Jangan ditaruh di dalam with\n",
        "                          show_menu()\n",
        "                          location_box.close()  # Hapus form SETELAH show_menu\n",
        "\n",
        "                      update_btn.on_click(on_update_location)\n",
        "\n",
        "                      # ⬇️ Tampilkan form input dan tombolnya (di luar output)\n",
        "                      display(location_box)\n",
        "                      return\n",
        "                    elif pilihan == '5':\n",
        "                        # Reset input\n",
        "                        user_info['name'] = ''\n",
        "                        user_info['location'] = ''\n",
        "                        name_input.value = ''\n",
        "                        location_input.value = ''\n",
        "                        input_box.children = [name_input, location_input, btn_start]\n",
        "                        clear_output(wait=True)\n",
        "                        print(f\"Thank you! Have a nice day! {name}🌸\")\n",
        "                        return\n",
        "                    else:\n",
        "                        print(\"\\033[1;31mInvalid choice. Please type 1-5 as a number!\\033[0m\")\n",
        "\n",
        "                    show_back_button()\n",
        "\n",
        "            def show_back_button():\n",
        "                back_button = widgets.Button(description=\"Back to Main Menu\")\n",
        "\n",
        "                def on_back(b):\n",
        "                  back_button.close()\n",
        "                  with output:\n",
        "                    clear_output()\n",
        "                    show_menu()\n",
        "\n",
        "                back_button.on_click(on_back)\n",
        "                display(back_button)\n",
        "\n",
        "        btn_choose.on_click(on_menu_select)\n",
        "        display(choose_box)\n",
        "\n",
        "\n",
        "    def on_start(b):\n",
        "        user_info['name'] = name_input.value.strip()\n",
        "        user_info['location'] = location_input.value.strip()\n",
        "        input_box.children = []  # <-- Hilangkan input form setelah klik Start\n",
        "        with output:\n",
        "            clear_output()\n",
        "        show_menu()\n",
        "\n",
        "    btn_start.on_click(on_start)\n",
        "\n",
        "    # Tampilkan input form awal\n",
        "    input_box.children = [name_input, location_input, btn_start]\n",
        "    display(input_box, output)\n",
        "\n"
      ]
    },
    {
      "cell_type": "markdown",
      "id": "d643a53c",
      "metadata": {
        "id": "d643a53c"
      },
      "source": [
        "## 🧩 Main Application Logic"
      ]
    },
    {
      "cell_type": "code",
      "execution_count": 75,
      "id": "a9e2e805",
      "metadata": {
        "id": "a9e2e805",
        "colab": {
          "base_uri": "https://localhost:8080/",
          "height": 589,
          "referenced_widgets": [
            "078565eaccac4ccba30150a87478056e",
            "1088b892ce9b4ce1b521c789b39d1f44",
            "faf87a0e89414391a15327da31391275",
            "b9d98e9f2dd14f109226005fbbff527b",
            "c1e7a86adc46433087c98f9ecffac100",
            "48983e8836d44f0f8d3da989c4cf27d1",
            "e1265a48f2b348f1a3493823bfae484a",
            "e6e07e76aa524b6e9abaefab2fe093c7",
            "c1f103f8049d4908b8a0ba630397df6a",
            "b7d0b43072a242dba9661087cbc2c165",
            "2155b3b8cb9a44f480dcd967265906ab",
            "e70fc50e2bc34895ae6e473bb7be933d",
            "53f7c02c41da4765b622d469db9582ca",
            "12aaf8d59f4c4b549182fc77850d0dfa",
            "13bc496d698946bba3399a428953bdb6",
            "19950cc33a4d4529ad612ec62ebc16cc",
            "1b4d0cc193914558a6b5b113d2074fda",
            "ecdc1c052fd540deb0fcd31ba6a63ad5",
            "dd22450fac2e426ebc2b61017648b5f5",
            "c4eb0aef20a94adaad53173240d8b8c4",
            "fe3dd762f9484b3bb1d3c2646cbcec8d",
            "8dae4bcb681d4488a2685c2ce6cd61da",
            "2ec56d913fd34b9da068e7e51b449ca1",
            "7c6195fcfffe47579124b2a307144e0a",
            "e4ae91bc35ae470c9c8e61933f521baa",
            "9e478d85a4cf4b5887b6174b8e3c352a",
            "bd0a0218f5e74ae4826c64a7f5c5af1c",
            "647c00542b7f432fae7f2d2127c9f3ff",
            "86c6810b00b94d6284c303527d2da807"
          ]
        },
        "outputId": "3c67b8a8-1be3-45d6-a43e-422aafd45f42"
      },
      "outputs": [
        {
          "output_type": "stream",
          "name": "stdout",
          "text": [
            "=====================================================\n",
            "\u001b[1;94m                 🌤️ Weather Wise 🌤️                \u001b[0m\n",
            "=====================================================\n"
          ]
        },
        {
          "output_type": "display_data",
          "data": {
            "text/plain": [
              "VBox(children=(Text(value='', description='🤖', layout=Layout(width='300px'), placeholder='Hi! Please enter you…"
            ],
            "application/vnd.jupyter.widget-view+json": {
              "version_major": 2,
              "version_minor": 0,
              "model_id": "078565eaccac4ccba30150a87478056e"
            }
          },
          "metadata": {
            "application/vnd.jupyter.widget-view+json": {
              "colab": {
                "custom_widget_manager": {
                  "url": "https://ssl.gstatic.com/colaboratory-static/widgets/colab-cdn-widget-manager/2b70e893a8ba7c0f/manager.min.js"
                }
              }
            }
          }
        },
        {
          "output_type": "display_data",
          "data": {
            "text/plain": [
              "Output()"
            ],
            "application/vnd.jupyter.widget-view+json": {
              "version_major": 2,
              "version_minor": 0,
              "model_id": "e70fc50e2bc34895ae6e473bb7be933d"
            }
          },
          "metadata": {
            "application/vnd.jupyter.widget-view+json": {
              "colab": {
                "custom_widget_manager": {
                  "url": "https://ssl.gstatic.com/colaboratory-static/widgets/colab-cdn-widget-manager/2b70e893a8ba7c0f/manager.min.js"
                }
              }
            }
          }
        },
        {
          "output_type": "display_data",
          "data": {
            "text/plain": [
              "VBox(children=(Text(value='', description='🤖', placeholder='Enter your choice (1-5)'), Button(description='Che…"
            ],
            "application/vnd.jupyter.widget-view+json": {
              "version_major": 2,
              "version_minor": 0,
              "model_id": "fe3dd762f9484b3bb1d3c2646cbcec8d"
            }
          },
          "metadata": {
            "application/vnd.jupyter.widget-view+json": {
              "colab": {
                "custom_widget_manager": {
                  "url": "https://ssl.gstatic.com/colaboratory-static/widgets/colab-cdn-widget-manager/2b70e893a8ba7c0f/manager.min.js"
                }
              }
            }
          }
        }
      ],
      "source": [
        "# Tie everything together here\n",
        "if __name__ == \"__main__\":\n",
        "    title = \"🌤️ Weather Wise 🌤️\"\n",
        "    blue_bold = \"\\033[1;94m\"  # 1 for bold, 94 for light blue\n",
        "    color = \"\\033[0m\"\n",
        "\n",
        "    print(\"=\" * 53)\n",
        "    print(\"\" + blue_bold + title.center(51) + color + \"\")\n",
        "    print(\"=\" * 53)\n",
        "\n",
        "    main()"
      ]
    },
    {
      "cell_type": "markdown",
      "id": "fde44479",
      "metadata": {
        "id": "fde44479"
      },
      "source": [
        "## 🧪 Testing and Examples"
      ]
    },
    {
      "cell_type": "code",
      "execution_count": null,
      "id": "4e573901",
      "metadata": {
        "id": "4e573901"
      },
      "outputs": [],
      "source": [
        "# Include sample input/output for each function"
      ]
    },
    {
      "cell_type": "markdown",
      "id": "d2885880",
      "metadata": {
        "id": "d2885880"
      },
      "source": [
        "## 🗂️ AI Prompting Log (Optional)\n",
        "Add markdown cells here summarising prompts used or link to AI conversations in the `ai-conversations/` folder."
      ]
    }
  ],
  "metadata": {
    "language_info": {
      "name": "python"
    },
    "colab": {
      "provenance": [],
      "include_colab_link": true
    },
    "kernelspec": {
      "name": "python3",
      "display_name": "Python 3"
    },
    "widgets": {
      "application/vnd.jupyter.widget-state+json": {
        "078565eaccac4ccba30150a87478056e": {
          "model_module": "@jupyter-widgets/controls",
          "model_name": "VBoxModel",
          "model_module_version": "1.5.0",
          "state": {
            "_dom_classes": [],
            "_model_module": "@jupyter-widgets/controls",
            "_model_module_version": "1.5.0",
            "_model_name": "VBoxModel",
            "_view_count": null,
            "_view_module": "@jupyter-widgets/controls",
            "_view_module_version": "1.5.0",
            "_view_name": "VBoxView",
            "box_style": "",
            "children": [],
            "layout": "IPY_MODEL_c1e7a86adc46433087c98f9ecffac100"
          }
        },
        "1088b892ce9b4ce1b521c789b39d1f44": {
          "model_module": "@jupyter-widgets/controls",
          "model_name": "TextModel",
          "model_module_version": "1.5.0",
          "state": {
            "_dom_classes": [],
            "_model_module": "@jupyter-widgets/controls",
            "_model_module_version": "1.5.0",
            "_model_name": "TextModel",
            "_view_count": null,
            "_view_module": "@jupyter-widgets/controls",
            "_view_module_version": "1.5.0",
            "_view_name": "TextView",
            "continuous_update": true,
            "description": "🤖",
            "description_tooltip": null,
            "disabled": false,
            "layout": "IPY_MODEL_48983e8836d44f0f8d3da989c4cf27d1",
            "placeholder": "Hi! Please enter your name",
            "style": "IPY_MODEL_e1265a48f2b348f1a3493823bfae484a",
            "value": "Zizi"
          }
        },
        "faf87a0e89414391a15327da31391275": {
          "model_module": "@jupyter-widgets/controls",
          "model_name": "TextModel",
          "model_module_version": "1.5.0",
          "state": {
            "_dom_classes": [],
            "_model_module": "@jupyter-widgets/controls",
            "_model_module_version": "1.5.0",
            "_model_name": "TextModel",
            "_view_count": null,
            "_view_module": "@jupyter-widgets/controls",
            "_view_module_version": "1.5.0",
            "_view_name": "TextView",
            "continuous_update": true,
            "description": "🤖",
            "description_tooltip": null,
            "disabled": false,
            "layout": "IPY_MODEL_e6e07e76aa524b6e9abaefab2fe093c7",
            "placeholder": "Which location would you check?",
            "style": "IPY_MODEL_c1f103f8049d4908b8a0ba630397df6a",
            "value": "Perth"
          }
        },
        "b9d98e9f2dd14f109226005fbbff527b": {
          "model_module": "@jupyter-widgets/controls",
          "model_name": "ButtonModel",
          "model_module_version": "1.5.0",
          "state": {
            "_dom_classes": [],
            "_model_module": "@jupyter-widgets/controls",
            "_model_module_version": "1.5.0",
            "_model_name": "ButtonModel",
            "_view_count": null,
            "_view_module": "@jupyter-widgets/controls",
            "_view_module_version": "1.5.0",
            "_view_name": "ButtonView",
            "button_style": "",
            "description": "Start",
            "disabled": false,
            "icon": "",
            "layout": "IPY_MODEL_b7d0b43072a242dba9661087cbc2c165",
            "style": "IPY_MODEL_2155b3b8cb9a44f480dcd967265906ab",
            "tooltip": ""
          }
        },
        "c1e7a86adc46433087c98f9ecffac100": {
          "model_module": "@jupyter-widgets/base",
          "model_name": "LayoutModel",
          "model_module_version": "1.2.0",
          "state": {
            "_model_module": "@jupyter-widgets/base",
            "_model_module_version": "1.2.0",
            "_model_name": "LayoutModel",
            "_view_count": null,
            "_view_module": "@jupyter-widgets/base",
            "_view_module_version": "1.2.0",
            "_view_name": "LayoutView",
            "align_content": null,
            "align_items": null,
            "align_self": null,
            "border": null,
            "bottom": null,
            "display": null,
            "flex": null,
            "flex_flow": null,
            "grid_area": null,
            "grid_auto_columns": null,
            "grid_auto_flow": null,
            "grid_auto_rows": null,
            "grid_column": null,
            "grid_gap": null,
            "grid_row": null,
            "grid_template_areas": null,
            "grid_template_columns": null,
            "grid_template_rows": null,
            "height": null,
            "justify_content": null,
            "justify_items": null,
            "left": null,
            "margin": null,
            "max_height": null,
            "max_width": null,
            "min_height": null,
            "min_width": null,
            "object_fit": null,
            "object_position": null,
            "order": null,
            "overflow": null,
            "overflow_x": null,
            "overflow_y": null,
            "padding": null,
            "right": null,
            "top": null,
            "visibility": null,
            "width": null
          }
        },
        "48983e8836d44f0f8d3da989c4cf27d1": {
          "model_module": "@jupyter-widgets/base",
          "model_name": "LayoutModel",
          "model_module_version": "1.2.0",
          "state": {
            "_model_module": "@jupyter-widgets/base",
            "_model_module_version": "1.2.0",
            "_model_name": "LayoutModel",
            "_view_count": null,
            "_view_module": "@jupyter-widgets/base",
            "_view_module_version": "1.2.0",
            "_view_name": "LayoutView",
            "align_content": null,
            "align_items": null,
            "align_self": null,
            "border": null,
            "bottom": null,
            "display": null,
            "flex": null,
            "flex_flow": null,
            "grid_area": null,
            "grid_auto_columns": null,
            "grid_auto_flow": null,
            "grid_auto_rows": null,
            "grid_column": null,
            "grid_gap": null,
            "grid_row": null,
            "grid_template_areas": null,
            "grid_template_columns": null,
            "grid_template_rows": null,
            "height": null,
            "justify_content": null,
            "justify_items": null,
            "left": null,
            "margin": null,
            "max_height": null,
            "max_width": null,
            "min_height": null,
            "min_width": null,
            "object_fit": null,
            "object_position": null,
            "order": null,
            "overflow": null,
            "overflow_x": null,
            "overflow_y": null,
            "padding": null,
            "right": null,
            "top": null,
            "visibility": null,
            "width": "300px"
          }
        },
        "e1265a48f2b348f1a3493823bfae484a": {
          "model_module": "@jupyter-widgets/controls",
          "model_name": "DescriptionStyleModel",
          "model_module_version": "1.5.0",
          "state": {
            "_model_module": "@jupyter-widgets/controls",
            "_model_module_version": "1.5.0",
            "_model_name": "DescriptionStyleModel",
            "_view_count": null,
            "_view_module": "@jupyter-widgets/base",
            "_view_module_version": "1.2.0",
            "_view_name": "StyleView",
            "description_width": ""
          }
        },
        "e6e07e76aa524b6e9abaefab2fe093c7": {
          "model_module": "@jupyter-widgets/base",
          "model_name": "LayoutModel",
          "model_module_version": "1.2.0",
          "state": {
            "_model_module": "@jupyter-widgets/base",
            "_model_module_version": "1.2.0",
            "_model_name": "LayoutModel",
            "_view_count": null,
            "_view_module": "@jupyter-widgets/base",
            "_view_module_version": "1.2.0",
            "_view_name": "LayoutView",
            "align_content": null,
            "align_items": null,
            "align_self": null,
            "border": null,
            "bottom": null,
            "display": null,
            "flex": null,
            "flex_flow": null,
            "grid_area": null,
            "grid_auto_columns": null,
            "grid_auto_flow": null,
            "grid_auto_rows": null,
            "grid_column": null,
            "grid_gap": null,
            "grid_row": null,
            "grid_template_areas": null,
            "grid_template_columns": null,
            "grid_template_rows": null,
            "height": null,
            "justify_content": null,
            "justify_items": null,
            "left": null,
            "margin": null,
            "max_height": null,
            "max_width": null,
            "min_height": null,
            "min_width": null,
            "object_fit": null,
            "object_position": null,
            "order": null,
            "overflow": null,
            "overflow_x": null,
            "overflow_y": null,
            "padding": null,
            "right": null,
            "top": null,
            "visibility": null,
            "width": "300px"
          }
        },
        "c1f103f8049d4908b8a0ba630397df6a": {
          "model_module": "@jupyter-widgets/controls",
          "model_name": "DescriptionStyleModel",
          "model_module_version": "1.5.0",
          "state": {
            "_model_module": "@jupyter-widgets/controls",
            "_model_module_version": "1.5.0",
            "_model_name": "DescriptionStyleModel",
            "_view_count": null,
            "_view_module": "@jupyter-widgets/base",
            "_view_module_version": "1.2.0",
            "_view_name": "StyleView",
            "description_width": ""
          }
        },
        "b7d0b43072a242dba9661087cbc2c165": {
          "model_module": "@jupyter-widgets/base",
          "model_name": "LayoutModel",
          "model_module_version": "1.2.0",
          "state": {
            "_model_module": "@jupyter-widgets/base",
            "_model_module_version": "1.2.0",
            "_model_name": "LayoutModel",
            "_view_count": null,
            "_view_module": "@jupyter-widgets/base",
            "_view_module_version": "1.2.0",
            "_view_name": "LayoutView",
            "align_content": null,
            "align_items": null,
            "align_self": null,
            "border": null,
            "bottom": null,
            "display": null,
            "flex": null,
            "flex_flow": null,
            "grid_area": null,
            "grid_auto_columns": null,
            "grid_auto_flow": null,
            "grid_auto_rows": null,
            "grid_column": null,
            "grid_gap": null,
            "grid_row": null,
            "grid_template_areas": null,
            "grid_template_columns": null,
            "grid_template_rows": null,
            "height": null,
            "justify_content": null,
            "justify_items": null,
            "left": null,
            "margin": "10px 0 0 90px",
            "max_height": null,
            "max_width": null,
            "min_height": null,
            "min_width": null,
            "object_fit": null,
            "object_position": null,
            "order": null,
            "overflow": null,
            "overflow_x": null,
            "overflow_y": null,
            "padding": null,
            "right": null,
            "top": null,
            "visibility": null,
            "width": null
          }
        },
        "2155b3b8cb9a44f480dcd967265906ab": {
          "model_module": "@jupyter-widgets/controls",
          "model_name": "ButtonStyleModel",
          "model_module_version": "1.5.0",
          "state": {
            "_model_module": "@jupyter-widgets/controls",
            "_model_module_version": "1.5.0",
            "_model_name": "ButtonStyleModel",
            "_view_count": null,
            "_view_module": "@jupyter-widgets/base",
            "_view_module_version": "1.2.0",
            "_view_name": "StyleView",
            "button_color": null,
            "font_weight": ""
          }
        },
        "e70fc50e2bc34895ae6e473bb7be933d": {
          "model_module": "@jupyter-widgets/output",
          "model_name": "OutputModel",
          "model_module_version": "1.0.0",
          "state": {
            "_dom_classes": [],
            "_model_module": "@jupyter-widgets/output",
            "_model_module_version": "1.0.0",
            "_model_name": "OutputModel",
            "_view_count": null,
            "_view_module": "@jupyter-widgets/output",
            "_view_module_version": "1.0.0",
            "_view_name": "OutputView",
            "layout": "IPY_MODEL_53f7c02c41da4765b622d469db9582ca",
            "msg_id": "",
            "outputs": [
              {
                "output_type": "display_data",
                "data": {
                  "text/plain": "Dropdown(description='Select day:', options=(('Today', 0), ('Tomorrow', 1), ('Day After Tomorrow', 2)), value=…",
                  "application/vnd.jupyter.widget-view+json": {
                    "version_major": 2,
                    "version_minor": 0,
                    "model_id": "e4ae91bc35ae470c9c8e61933f521baa"
                  }
                },
                "metadata": {
                  "application/vnd.jupyter.widget-view+json": {
                    "colab": {
                      "custom_widget_manager": {
                        "url": "https://ssl.gstatic.com/colaboratory-static/widgets/colab-cdn-widget-manager/2b70e893a8ba7c0f/manager.min.js"
                      }
                    }
                  }
                }
              },
              {
                "output_type": "display_data",
                "data": {
                  "text/plain": "Output()",
                  "application/vnd.jupyter.widget-view+json": {
                    "version_major": 2,
                    "version_minor": 0,
                    "model_id": "9e478d85a4cf4b5887b6174b8e3c352a"
                  }
                },
                "metadata": {
                  "application/vnd.jupyter.widget-view+json": {
                    "colab": {
                      "custom_widget_manager": {
                        "url": "https://ssl.gstatic.com/colaboratory-static/widgets/colab-cdn-widget-manager/2b70e893a8ba7c0f/manager.min.js"
                      }
                    }
                  }
                }
              },
              {
                "output_type": "display_data",
                "data": {
                  "text/plain": "Button(description='Back to Main Menu', style=ButtonStyle())",
                  "application/vnd.jupyter.widget-view+json": {
                    "version_major": 2,
                    "version_minor": 0,
                    "model_id": "86c6810b00b94d6284c303527d2da807"
                  }
                },
                "metadata": {
                  "application/vnd.jupyter.widget-view+json": {
                    "colab": {
                      "custom_widget_manager": {
                        "url": "https://ssl.gstatic.com/colaboratory-static/widgets/colab-cdn-widget-manager/2b70e893a8ba7c0f/manager.min.js"
                      }
                    }
                  }
                }
              }
            ]
          }
        },
        "53f7c02c41da4765b622d469db9582ca": {
          "model_module": "@jupyter-widgets/base",
          "model_name": "LayoutModel",
          "model_module_version": "1.2.0",
          "state": {
            "_model_module": "@jupyter-widgets/base",
            "_model_module_version": "1.2.0",
            "_model_name": "LayoutModel",
            "_view_count": null,
            "_view_module": "@jupyter-widgets/base",
            "_view_module_version": "1.2.0",
            "_view_name": "LayoutView",
            "align_content": null,
            "align_items": null,
            "align_self": null,
            "border": null,
            "bottom": null,
            "display": null,
            "flex": null,
            "flex_flow": null,
            "grid_area": null,
            "grid_auto_columns": null,
            "grid_auto_flow": null,
            "grid_auto_rows": null,
            "grid_column": null,
            "grid_gap": null,
            "grid_row": null,
            "grid_template_areas": null,
            "grid_template_columns": null,
            "grid_template_rows": null,
            "height": null,
            "justify_content": null,
            "justify_items": null,
            "left": null,
            "margin": null,
            "max_height": null,
            "max_width": null,
            "min_height": null,
            "min_width": null,
            "object_fit": null,
            "object_position": null,
            "order": null,
            "overflow": null,
            "overflow_x": null,
            "overflow_y": null,
            "padding": null,
            "right": null,
            "top": null,
            "visibility": null,
            "width": null
          }
        },
        "12aaf8d59f4c4b549182fc77850d0dfa": {
          "model_module": "@jupyter-widgets/base",
          "model_name": "LayoutModel",
          "model_module_version": "1.2.0",
          "state": {
            "_model_module": "@jupyter-widgets/base",
            "_model_module_version": "1.2.0",
            "_model_name": "LayoutModel",
            "_view_count": null,
            "_view_module": "@jupyter-widgets/base",
            "_view_module_version": "1.2.0",
            "_view_name": "LayoutView",
            "align_content": null,
            "align_items": null,
            "align_self": null,
            "border": null,
            "bottom": null,
            "display": null,
            "flex": null,
            "flex_flow": null,
            "grid_area": null,
            "grid_auto_columns": null,
            "grid_auto_flow": null,
            "grid_auto_rows": null,
            "grid_column": null,
            "grid_gap": null,
            "grid_row": null,
            "grid_template_areas": null,
            "grid_template_columns": null,
            "grid_template_rows": null,
            "height": null,
            "justify_content": null,
            "justify_items": null,
            "left": null,
            "margin": null,
            "max_height": null,
            "max_width": null,
            "min_height": null,
            "min_width": null,
            "object_fit": null,
            "object_position": null,
            "order": null,
            "overflow": null,
            "overflow_x": null,
            "overflow_y": null,
            "padding": null,
            "right": null,
            "top": null,
            "visibility": null,
            "width": null
          }
        },
        "13bc496d698946bba3399a428953bdb6": {
          "model_module": "@jupyter-widgets/controls",
          "model_name": "DescriptionStyleModel",
          "model_module_version": "1.5.0",
          "state": {
            "_model_module": "@jupyter-widgets/controls",
            "_model_module_version": "1.5.0",
            "_model_name": "DescriptionStyleModel",
            "_view_count": null,
            "_view_module": "@jupyter-widgets/base",
            "_view_module_version": "1.2.0",
            "_view_name": "StyleView",
            "description_width": ""
          }
        },
        "19950cc33a4d4529ad612ec62ebc16cc": {
          "model_module": "@jupyter-widgets/base",
          "model_name": "LayoutModel",
          "model_module_version": "1.2.0",
          "state": {
            "_model_module": "@jupyter-widgets/base",
            "_model_module_version": "1.2.0",
            "_model_name": "LayoutModel",
            "_view_count": null,
            "_view_module": "@jupyter-widgets/base",
            "_view_module_version": "1.2.0",
            "_view_name": "LayoutView",
            "align_content": null,
            "align_items": null,
            "align_self": null,
            "border": null,
            "bottom": null,
            "display": null,
            "flex": null,
            "flex_flow": null,
            "grid_area": null,
            "grid_auto_columns": null,
            "grid_auto_flow": null,
            "grid_auto_rows": null,
            "grid_column": null,
            "grid_gap": null,
            "grid_row": null,
            "grid_template_areas": null,
            "grid_template_columns": null,
            "grid_template_rows": null,
            "height": null,
            "justify_content": null,
            "justify_items": null,
            "left": null,
            "margin": "10px 0 0 90px",
            "max_height": null,
            "max_width": null,
            "min_height": null,
            "min_width": null,
            "object_fit": null,
            "object_position": null,
            "order": null,
            "overflow": null,
            "overflow_x": null,
            "overflow_y": null,
            "padding": null,
            "right": null,
            "top": null,
            "visibility": null,
            "width": null
          }
        },
        "1b4d0cc193914558a6b5b113d2074fda": {
          "model_module": "@jupyter-widgets/controls",
          "model_name": "ButtonStyleModel",
          "model_module_version": "1.5.0",
          "state": {
            "_model_module": "@jupyter-widgets/controls",
            "_model_module_version": "1.5.0",
            "_model_name": "ButtonStyleModel",
            "_view_count": null,
            "_view_module": "@jupyter-widgets/base",
            "_view_module_version": "1.2.0",
            "_view_name": "StyleView",
            "button_color": null,
            "font_weight": ""
          }
        },
        "ecdc1c052fd540deb0fcd31ba6a63ad5": {
          "model_module": "@jupyter-widgets/controls",
          "model_name": "TextModel",
          "model_module_version": "1.5.0",
          "state": {
            "_dom_classes": [],
            "_model_module": "@jupyter-widgets/controls",
            "_model_module_version": "1.5.0",
            "_model_name": "TextModel",
            "_view_count": null,
            "_view_module": "@jupyter-widgets/controls",
            "_view_module_version": "1.5.0",
            "_view_name": "TextView",
            "continuous_update": true,
            "description": "🤖",
            "description_tooltip": null,
            "disabled": false,
            "layout": "IPY_MODEL_12aaf8d59f4c4b549182fc77850d0dfa",
            "placeholder": "Enter your choice (1-5)",
            "style": "IPY_MODEL_13bc496d698946bba3399a428953bdb6",
            "value": "2"
          }
        },
        "dd22450fac2e426ebc2b61017648b5f5": {
          "model_module": "@jupyter-widgets/controls",
          "model_name": "ButtonModel",
          "model_module_version": "1.5.0",
          "state": {
            "_dom_classes": [],
            "_model_module": "@jupyter-widgets/controls",
            "_model_module_version": "1.5.0",
            "_model_name": "ButtonModel",
            "_view_count": null,
            "_view_module": "@jupyter-widgets/controls",
            "_view_module_version": "1.5.0",
            "_view_name": "ButtonView",
            "button_style": "",
            "description": "Check",
            "disabled": false,
            "icon": "",
            "layout": "IPY_MODEL_19950cc33a4d4529ad612ec62ebc16cc",
            "style": "IPY_MODEL_1b4d0cc193914558a6b5b113d2074fda",
            "tooltip": ""
          }
        },
        "c4eb0aef20a94adaad53173240d8b8c4": {
          "model_module": "@jupyter-widgets/base",
          "model_name": "LayoutModel",
          "model_module_version": "1.2.0",
          "state": {
            "_model_module": "@jupyter-widgets/base",
            "_model_module_version": "1.2.0",
            "_model_name": "LayoutModel",
            "_view_count": null,
            "_view_module": "@jupyter-widgets/base",
            "_view_module_version": "1.2.0",
            "_view_name": "LayoutView",
            "align_content": null,
            "align_items": null,
            "align_self": null,
            "border": null,
            "bottom": null,
            "display": null,
            "flex": null,
            "flex_flow": null,
            "grid_area": null,
            "grid_auto_columns": null,
            "grid_auto_flow": null,
            "grid_auto_rows": null,
            "grid_column": null,
            "grid_gap": null,
            "grid_row": null,
            "grid_template_areas": null,
            "grid_template_columns": null,
            "grid_template_rows": null,
            "height": null,
            "justify_content": null,
            "justify_items": null,
            "left": null,
            "margin": null,
            "max_height": null,
            "max_width": null,
            "min_height": null,
            "min_width": null,
            "object_fit": null,
            "object_position": null,
            "order": null,
            "overflow": null,
            "overflow_x": null,
            "overflow_y": null,
            "padding": null,
            "right": null,
            "top": null,
            "visibility": null,
            "width": null
          }
        },
        "fe3dd762f9484b3bb1d3c2646cbcec8d": {
          "model_module": "@jupyter-widgets/controls",
          "model_name": "VBoxModel",
          "model_module_version": "1.5.0",
          "state": {
            "_dom_classes": [],
            "_model_module": "@jupyter-widgets/controls",
            "_model_module_version": "1.5.0",
            "_model_name": "VBoxModel",
            "_view_count": null,
            "_view_module": "@jupyter-widgets/controls",
            "_view_module_version": "1.5.0",
            "_view_name": "VBoxView",
            "box_style": "",
            "children": [
              "IPY_MODEL_ecdc1c052fd540deb0fcd31ba6a63ad5",
              "IPY_MODEL_dd22450fac2e426ebc2b61017648b5f5"
            ],
            "layout": "IPY_MODEL_c4eb0aef20a94adaad53173240d8b8c4"
          }
        },
        "8dae4bcb681d4488a2685c2ce6cd61da": {
          "model_module": "@jupyter-widgets/base",
          "model_name": "LayoutModel",
          "model_module_version": "1.2.0",
          "state": {
            "_model_module": "@jupyter-widgets/base",
            "_model_module_version": "1.2.0",
            "_model_name": "LayoutModel",
            "_view_count": null,
            "_view_module": "@jupyter-widgets/base",
            "_view_module_version": "1.2.0",
            "_view_name": "LayoutView",
            "align_content": null,
            "align_items": null,
            "align_self": null,
            "border": null,
            "bottom": null,
            "display": null,
            "flex": null,
            "flex_flow": null,
            "grid_area": null,
            "grid_auto_columns": null,
            "grid_auto_flow": null,
            "grid_auto_rows": null,
            "grid_column": null,
            "grid_gap": null,
            "grid_row": null,
            "grid_template_areas": null,
            "grid_template_columns": null,
            "grid_template_rows": null,
            "height": null,
            "justify_content": null,
            "justify_items": null,
            "left": null,
            "margin": null,
            "max_height": null,
            "max_width": null,
            "min_height": null,
            "min_width": null,
            "object_fit": null,
            "object_position": null,
            "order": null,
            "overflow": null,
            "overflow_x": null,
            "overflow_y": null,
            "padding": null,
            "right": null,
            "top": null,
            "visibility": null,
            "width": null
          }
        },
        "2ec56d913fd34b9da068e7e51b449ca1": {
          "model_module": "@jupyter-widgets/controls",
          "model_name": "DescriptionStyleModel",
          "model_module_version": "1.5.0",
          "state": {
            "_model_module": "@jupyter-widgets/controls",
            "_model_module_version": "1.5.0",
            "_model_name": "DescriptionStyleModel",
            "_view_count": null,
            "_view_module": "@jupyter-widgets/base",
            "_view_module_version": "1.2.0",
            "_view_name": "StyleView",
            "description_width": ""
          }
        },
        "7c6195fcfffe47579124b2a307144e0a": {
          "model_module": "@jupyter-widgets/base",
          "model_name": "LayoutModel",
          "model_module_version": "1.2.0",
          "state": {
            "_model_module": "@jupyter-widgets/base",
            "_model_module_version": "1.2.0",
            "_model_name": "LayoutModel",
            "_view_count": null,
            "_view_module": "@jupyter-widgets/base",
            "_view_module_version": "1.2.0",
            "_view_name": "LayoutView",
            "align_content": null,
            "align_items": null,
            "align_self": null,
            "border": null,
            "bottom": null,
            "display": null,
            "flex": null,
            "flex_flow": null,
            "grid_area": null,
            "grid_auto_columns": null,
            "grid_auto_flow": null,
            "grid_auto_rows": null,
            "grid_column": null,
            "grid_gap": null,
            "grid_row": null,
            "grid_template_areas": null,
            "grid_template_columns": null,
            "grid_template_rows": null,
            "height": null,
            "justify_content": null,
            "justify_items": null,
            "left": null,
            "margin": null,
            "max_height": null,
            "max_width": null,
            "min_height": null,
            "min_width": null,
            "object_fit": null,
            "object_position": null,
            "order": null,
            "overflow": null,
            "overflow_x": null,
            "overflow_y": null,
            "padding": null,
            "right": null,
            "top": null,
            "visibility": null,
            "width": null
          }
        },
        "e4ae91bc35ae470c9c8e61933f521baa": {
          "model_module": "@jupyter-widgets/controls",
          "model_name": "DropdownModel",
          "model_module_version": "1.5.0",
          "state": {
            "_dom_classes": [],
            "_model_module": "@jupyter-widgets/controls",
            "_model_module_version": "1.5.0",
            "_model_name": "DropdownModel",
            "_options_labels": [
              "Today",
              "Tomorrow",
              "Day After Tomorrow"
            ],
            "_view_count": null,
            "_view_module": "@jupyter-widgets/controls",
            "_view_module_version": "1.5.0",
            "_view_name": "DropdownView",
            "description": "Select day:",
            "description_tooltip": null,
            "disabled": false,
            "index": 1,
            "layout": "IPY_MODEL_8dae4bcb681d4488a2685c2ce6cd61da",
            "style": "IPY_MODEL_2ec56d913fd34b9da068e7e51b449ca1"
          }
        },
        "9e478d85a4cf4b5887b6174b8e3c352a": {
          "model_module": "@jupyter-widgets/output",
          "model_name": "OutputModel",
          "model_module_version": "1.0.0",
          "state": {
            "_dom_classes": [],
            "_model_module": "@jupyter-widgets/output",
            "_model_module_version": "1.0.0",
            "_model_name": "OutputModel",
            "_view_count": null,
            "_view_module": "@jupyter-widgets/output",
            "_view_module_version": "1.0.0",
            "_view_name": "OutputView",
            "layout": "IPY_MODEL_7c6195fcfffe47579124b2a307144e0a",
            "msg_id": "",
            "outputs": [
              {
                "output_type": "display_data",
                "data": {
                  "text/plain": "<Figure size 640x480 with 2 Axes>",
                  "image/png": "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\n"
                },
                "metadata": {}
              }
            ]
          }
        },
        "bd0a0218f5e74ae4826c64a7f5c5af1c": {
          "model_module": "@jupyter-widgets/base",
          "model_name": "LayoutModel",
          "model_module_version": "1.2.0",
          "state": {
            "_model_module": "@jupyter-widgets/base",
            "_model_module_version": "1.2.0",
            "_model_name": "LayoutModel",
            "_view_count": null,
            "_view_module": "@jupyter-widgets/base",
            "_view_module_version": "1.2.0",
            "_view_name": "LayoutView",
            "align_content": null,
            "align_items": null,
            "align_self": null,
            "border": null,
            "bottom": null,
            "display": null,
            "flex": null,
            "flex_flow": null,
            "grid_area": null,
            "grid_auto_columns": null,
            "grid_auto_flow": null,
            "grid_auto_rows": null,
            "grid_column": null,
            "grid_gap": null,
            "grid_row": null,
            "grid_template_areas": null,
            "grid_template_columns": null,
            "grid_template_rows": null,
            "height": null,
            "justify_content": null,
            "justify_items": null,
            "left": null,
            "margin": null,
            "max_height": null,
            "max_width": null,
            "min_height": null,
            "min_width": null,
            "object_fit": null,
            "object_position": null,
            "order": null,
            "overflow": null,
            "overflow_x": null,
            "overflow_y": null,
            "padding": null,
            "right": null,
            "top": null,
            "visibility": null,
            "width": null
          }
        },
        "647c00542b7f432fae7f2d2127c9f3ff": {
          "model_module": "@jupyter-widgets/controls",
          "model_name": "ButtonStyleModel",
          "model_module_version": "1.5.0",
          "state": {
            "_model_module": "@jupyter-widgets/controls",
            "_model_module_version": "1.5.0",
            "_model_name": "ButtonStyleModel",
            "_view_count": null,
            "_view_module": "@jupyter-widgets/base",
            "_view_module_version": "1.2.0",
            "_view_name": "StyleView",
            "button_color": null,
            "font_weight": ""
          }
        },
        "86c6810b00b94d6284c303527d2da807": {
          "model_module": "@jupyter-widgets/controls",
          "model_name": "ButtonModel",
          "model_module_version": "1.5.0",
          "state": {
            "_dom_classes": [],
            "_model_module": "@jupyter-widgets/controls",
            "_model_module_version": "1.5.0",
            "_model_name": "ButtonModel",
            "_view_count": null,
            "_view_module": "@jupyter-widgets/controls",
            "_view_module_version": "1.5.0",
            "_view_name": "ButtonView",
            "button_style": "",
            "description": "Back to Main Menu",
            "disabled": false,
            "icon": "",
            "layout": "IPY_MODEL_bd0a0218f5e74ae4826c64a7f5c5af1c",
            "style": "IPY_MODEL_647c00542b7f432fae7f2d2127c9f3ff",
            "tooltip": ""
          }
        }
      }
    }
  },
  "nbformat": 4,
  "nbformat_minor": 5
}