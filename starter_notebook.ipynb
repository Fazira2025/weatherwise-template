{
  "cells": [
    {
      "cell_type": "markdown",
      "metadata": {
        "id": "view-in-github",
        "colab_type": "text"
      },
      "source": [
        "<a href=\"https://colab.research.google.com/github/Fazira2025/weatherwise-template/blob/main/starter_notebook.ipynb\" target=\"_parent\"><img src=\"https://colab.research.google.com/assets/colab-badge.svg\" alt=\"Open In Colab\"/></a>"
      ]
    },
    {
      "cell_type": "markdown",
      "id": "72e78a05",
      "metadata": {
        "id": "72e78a05"
      },
      "source": [
        "# 🌦️ WeatherWise – Starter Notebook\n",
        "\n",
        "Welcome to your **WeatherWise** project notebook! This scaffold is designed to help you build your weather advisor app using Python, visualisations, and AI-enhanced development.\n",
        "\n",
        "---\n",
        "\n"
      ]
    },
    {
      "cell_type": "code",
      "execution_count": null,
      "id": "70c3f3f1",
      "metadata": {
        "id": "70c3f3f1"
      },
      "outputs": [],
      "source": [
        "# 🧪 Optional packages — uncomment if needed in Colab or JupyterHub\n"
      ]
    },
    {
      "cell_type": "code",
      "source": [
        "import requests\n",
        "import matplotlib.pyplot as plt"
      ],
      "metadata": {
        "id": "B2JKlJfrGgIb"
      },
      "id": "B2JKlJfrGgIb",
      "execution_count": 26,
      "outputs": []
    },
    {
      "cell_type": "markdown",
      "id": "59ae7543",
      "metadata": {
        "id": "59ae7543"
      },
      "source": [
        "## 📦 Setup and Configuration\n",
        "Import required packages and setup environment."
      ]
    },
    {
      "cell_type": "code",
      "execution_count": null,
      "id": "f1dd051e",
      "metadata": {
        "id": "f1dd051e"
      },
      "outputs": [],
      "source": [
        "# Add any other setup code here"
      ]
    },
    {
      "cell_type": "markdown",
      "id": "f736ade3",
      "metadata": {
        "id": "f736ade3"
      },
      "source": [
        "## 🌤️ Weather Data Functions"
      ]
    },
    {
      "cell_type": "code",
      "execution_count": 27,
      "id": "7a2c7cd0",
      "metadata": {
        "id": "7a2c7cd0"
      },
      "outputs": [],
      "source": [
        "def get_weather_data(location, format_type='plaintext'):\n",
        "    \"\"\"\n",
        "    Get weather data from wttr.in API\n",
        "    Args:\n",
        "        location (str): City name or location\n",
        "    Returns:\n",
        "        str: Weather data in text format or None if an error occurs\n",
        "    Raises:\n",
        "        Various requests exceptions which are caught and printed\n",
        "    \"\"\"\n",
        "    try:\n",
        "        if format_type.lower() == \"json\":\n",
        "            url = f'https://wttr.in/{location}?format=j1'\n",
        "        else:\n",
        "            url = f'https://wttr.in/{location}'\n",
        "\n",
        "        response = requests.get(url, timeout=10)\n",
        "        response.raise_for_status()\n",
        "\n",
        "        if format_type.lower() == \"json\":\n",
        "            return response.json()\n",
        "        else:\n",
        "            print(response.text)\n",
        "            return None\n",
        "    except requests.exceptions.HTTPError as errh:\n",
        "        print(f\"HTTP Error: {errh}\")\n",
        "    except requests.exceptions.ConnectionError as errc:\n",
        "        print(f\"Connection Error: {errc}\")\n",
        "    except requests.exceptions.Timeout as errt:\n",
        "        print(f\"Timeout Error: {errt}\")\n",
        "    except requests.exceptions.TooManyRedirects as errr:\n",
        "        print(f\"Redirect Error: {errr}\")\n",
        "    except requests.exceptions.RequestException as err:\n",
        "        print(f\"Unknown Error: {err}\")\n",
        "\n",
        "    return None"
      ]
    },
    {
      "cell_type": "markdown",
      "id": "8a744fdc",
      "metadata": {
        "id": "8a744fdc"
      },
      "source": [
        "## 📊 Visualisation Functions"
      ]
    },
    {
      "cell_type": "code",
      "execution_count": 28,
      "id": "9dc3bf85",
      "metadata": {
        "id": "9dc3bf85"
      },
      "outputs": [],
      "source": [
        "# Define specific keywords for each weather condition #list_dictionary\n",
        "def get_emoji(weather_desc):\n",
        "    \"\"\"\n",
        "    Return an emoji corresponding to the weather description.\n",
        "    \"\"\"\n",
        "    weather_lower = weather_desc.lower()\n",
        "\n",
        "    rain_keywords = ['rain', 'drizzle', 'shower', 'thundery outbreaks', 'downpour', 'wet']\n",
        "    snow_keywords = ['snow', 'blizzard', 'sleet', 'ice', 'hail', 'flurry']\n",
        "    cloud_keywords = ['cloud', 'overcast', 'mist', 'fog', 'haze', 'partly cloudy', 'scattered clouds']\n",
        "    fog_keywords = ['mist', 'fog', 'haze']\n",
        "    sun_keywords = ['sunny', 'clear', 'fair', 'hot', 'bright', 'clear skies', 'clear weather']\n",
        "    wind_keywords = ['wind', 'gale', 'storm', 'breeze', 'gust']\n",
        "\n",
        " # Rain conditions\n",
        "    if any(word in weather_lower for word in rain_keywords):\n",
        "        if 'thunder' in weather_lower or 'storm' in weather_lower or 'thundery outbreaks' in weather_lower:\n",
        "            return '⛈️'  # Thunderstorm\n",
        "        elif 'light' in weather_lower or 'patchy' in weather_lower:\n",
        "            return '🌦️'  # Sun behind rain cloud\n",
        "        else:\n",
        "            return '🌧️'  # Rain cloud\n",
        "\n",
        "    # Snow conditions\n",
        "    elif any(word in weather_lower for word in snow_keywords):\n",
        "        if 'light' in weather_lower or 'patchy' in weather_lower:\n",
        "            return '🌨️'  # Snow cloud\n",
        "        else:\n",
        "            return '❄️'  # Snowflake\n",
        "\n",
        "    # Cloud conditions\n",
        "    elif any(word in weather_lower for word in cloud_keywords):\n",
        "        if 'fog' in weather_lower or 'mist' in weather_lower:\n",
        "            return '🌫️'  # Fog\n",
        "        elif 'overcast' in weather_lower:\n",
        "            return '☁️'  # Cloudy weather\n",
        "        elif 'partly' in weather_lower or 'scattered' in weather_lower:\n",
        "            return '⛅'  # Sun behind cloud\n",
        "        else:\n",
        "            return '☁️'  # Cloud\n",
        "\n",
        "    # Clear conditions (sunny/fair weather)\n",
        "    elif any(word in weather_lower for word in sun_keywords):\n",
        "        return '☀️'  # Sun\n",
        "\n",
        "    # Wind conditions\n",
        "    elif any(word in weather_lower for word in wind_keywords):\n",
        "        return '💨'  # Wind blowing\n",
        "\n",
        "    # Fog conditions\n",
        "    elif any(word in weather_lower for word in fog_keywords):\n",
        "        return '🌫️'  # Wind blowing\n",
        "\n",
        "    # Default (unknown or undefined weather)\n",
        "    else:\n",
        "        return '🌡️'  # Thermometer (default)\n",
        "\n",
        "def create_temperature_visualisation(location):\n",
        "    data = get_weather_data(location, format_type=\"json\")\n",
        "    if data is None:\n",
        "        print(\"Failed to retrieve weather data.\")\n",
        "        return\n",
        "\n",
        "    try:\n",
        "        weather_days = data['weather']  # List of daily forecasts\n",
        "    except KeyError:\n",
        "        print(\"Unexpected data format.\")\n",
        "        return\n",
        "\n",
        "    print(\"-\" * 53)\n",
        "    print(f\"{'ACTIVITY':^53}\")\n",
        "    print(\"-\" * 53)\n",
        "\n",
        "    # For demonstration, show info for each day in the forecast\n",
        "    for day in weather_days:\n",
        "        date = day.get('date', 'Unknown Date')\n",
        "        # Format date nicely (optional: convert 'YYYY-MM-DD' to e.g. Thursday, 22 May 2025)\n",
        "        # Let's do simple parsing using datetime:\n",
        "        from datetime import datetime\n",
        "        try:\n",
        "            dt_obj = datetime.strptime(date, \"%Y-%m-%d\")\n",
        "            formatted_date = dt_obj.strftime(\"%A, %d %B %Y\")\n",
        "        except Exception:\n",
        "            formatted_date = date\n",
        "\n",
        "        weather_desc = day.get('hourly', [{}])[4].get('weatherDesc', [{'value': 'N/A'}])[0]['value']  # Midday weather desc\n",
        "        mintempC = day.get('mintempC', 'N/A')\n",
        "        maxtempC = day.get('maxtempC', 'N/A')\n",
        "        avgtempC = day.get('avgtempC', 'N/A')\n",
        "        weather_emoji = get_emoji(weather_desc)\n",
        "\n",
        "        print(f\"Location   : {location.capitalize()}\")\n",
        "        print(f\"Date       : {formatted_date}\")\n",
        "        print(f\"Weather    : {weather_emoji}-{weather_desc}\")\n",
        "        print(f\"Temperature: Min {mintempC}°C | Max {maxtempC}°C | Avg {avgtempC}°C\")\n",
        "        print(\"-\" * 53)"
      ]
    },
    {
      "cell_type": "code",
      "source": [
        "# Define create_precipitation_visualisation() here\n",
        "def create_precipitation_visualisation(location, day_index=0):\n",
        "    data = get_weather_data(location, 'json')\n",
        "    if not data:\n",
        "        print(\"Failed to get data.\")\n",
        "        return\n",
        "\n",
        "    hourly = data['weather'][day_index]['hourly']\n",
        "    times = [f\"{int(h['time'])//100:02d}:00\" for h in hourly]\n",
        "    precip = [float(h['precipMM']) for h in hourly]\n",
        "    rain_chance = [int(h['chanceofrain']) for h in hourly]\n",
        "\n",
        "    fig, ax1 = plt.subplots()\n",
        "\n",
        "    ax1.plot(times, precip, 'b-o', label='Precipitation (mm)')\n",
        "    ax1.set_xlabel('24 Hour')\n",
        "    ax1.set_ylabel('Precipitation (mm)', color='b')\n",
        "    ax1.tick_params(axis='y', labelcolor='b')\n",
        "\n",
        "    ax2 = ax1.twinx()\n",
        "    ax2.plot(times, rain_chance, 'g--x', label='Chance of Rain (%)')\n",
        "    ax2.set_ylabel('Chance of Rain (%)', color='g')\n",
        "    ax2.tick_params(axis='y', labelcolor='g')\n",
        "\n",
        "    if day_index == 0:\n",
        "        days = 'Today'\n",
        "    elif day_index == 1:\n",
        "        days = 'Tomorrow'\n",
        "    else:\n",
        "        days = 'After-Tomorrow'\n",
        "\n",
        "    plt.title(f'{days} Graphical Representation of Precipitation and Rainfall Probability at {location.capitalize()}')\n",
        "    plt.grid(True)\n",
        "    plt.show()"
      ],
      "metadata": {
        "id": "HpOlQylYG5Ho"
      },
      "id": "HpOlQylYG5Ho",
      "execution_count": 29,
      "outputs": []
    },
    {
      "cell_type": "markdown",
      "id": "9f95d160",
      "metadata": {
        "id": "9f95d160"
      },
      "source": [
        "## 🤖 Natural Language Processing"
      ]
    },
    {
      "cell_type": "code",
      "execution_count": null,
      "id": "bcc5833e",
      "metadata": {
        "id": "bcc5833e"
      },
      "outputs": [],
      "source": [
        "# Define parse_weather_question() and generate_weather_response() here\n",
        "def parse_weather_question(question):\n",
        "    \"\"\"\n",
        "    Parse a natural language weather question.\n",
        "\n",
        "    Args:\n",
        "        question (str): User's weather-related question\n",
        "\n",
        "    Returns:\n",
        "        dict: Extracted information including location, time period, and weather attribute\n",
        "    \"\"\"\n",
        "    pass"
      ]
    },
    {
      "cell_type": "markdown",
      "id": "0d85225e",
      "metadata": {
        "id": "0d85225e"
      },
      "source": [
        "## 🧭 User Interface"
      ]
    },
    {
      "cell_type": "code",
      "execution_count": 30,
      "id": "fa6cb0f6",
      "metadata": {
        "id": "fa6cb0f6"
      },
      "outputs": [],
      "source": [
        "# Define menu functions using pyinputplus or ipywidgets here\n",
        "def main():\n",
        "  name = input('🤖: Hi! Please enter your name: ')\n",
        "  location = input(f'🤖: Which location would you like to check, {name}? ')\n",
        "  while True:\n",
        "        print(f'🤖 Hello! {name}, Welcome to Weather Wise. How can I help you at {location}?')\n",
        "        print(\"-\" * 53)\n",
        "        print('Please enter your choice (1 - 5):')\n",
        "        print(f'1. Check Current Weather & View Weather Forecast at {location}')\n",
        "        print(f'2. Check Current Weather Hourly at {location}')\n",
        "        print(f'3. Activities Suggestions & Weather Prediction assistant at {location}')\n",
        "        print('4. Check Other Location')\n",
        "        print('5. Exit Program')\n",
        "\n",
        "        choice = input('Enter your choice (1-5): ')\n",
        "\n",
        "        if choice == \"1\":\n",
        "           get_weather_data(location)\n",
        "        elif choice == \"2\":\n",
        "            print(\"Select day for weather visualization:\")\n",
        "            print(\"1. Today\")\n",
        "            print(\"2. Tomorrow\")\n",
        "            print(\"3. Day after tomorrow\")\n",
        "            day_choice = input(\"Enter choice (1-3): \").strip()\n",
        "            if day_choice in ['1', '2', '3']:\n",
        "                day_index = int(day_choice) - 1  # Convert to 0-based index\n",
        "            else:\n",
        "                print(\"Invalid choice, defaulting to Today.\")\n",
        "                day_index = 0\n",
        "            create_precipitation_visualisation(location, day_index=day_index)\n",
        "        elif choice == \"3\":\n",
        "            create_temperature_visualisation(location)\n",
        "        elif choice == \"4\":\n",
        "            location = input(\"Enter new location: \")\n",
        "            print(f'🤖: Your new location is {location}')\n",
        "        elif choice == \"5\":\n",
        "            print(f'Thankyou! Have a nice day {name} 🌸')\n",
        "            break\n",
        "        else:\n",
        "            print(\"\\033[1;31mInvalid choice. Please type 1-5 as a number!\\033[0m\") #error_handling\n"
      ]
    },
    {
      "cell_type": "markdown",
      "id": "d643a53c",
      "metadata": {
        "id": "d643a53c"
      },
      "source": [
        "## 🧩 Main Application Logic"
      ]
    },
    {
      "cell_type": "code",
      "execution_count": 31,
      "id": "a9e2e805",
      "metadata": {
        "id": "a9e2e805",
        "colab": {
          "base_uri": "https://localhost:8080/"
        },
        "outputId": "398e78e3-8d2b-44bf-dba9-17e5bb853909"
      },
      "outputs": [
        {
          "output_type": "stream",
          "name": "stdout",
          "text": [
            "=====================================================\n",
            "\u001b[1;94m                    Weather Wise                   \u001b[0m\n",
            "=====================================================\n",
            "🤖: Hi! Please enter your name: Zizi\n",
            "🤖: Which location would you like to check, Zizi? Perth\n",
            "🤖 Hello! Zizi, Welcome to Weather Wise. How can I help you at Perth?\n",
            "-----------------------------------------------------\n",
            "Please enter your choice (1 - 5):\n",
            "1. Check Current Weather & View Weather Forecast at Perth\n",
            "2. Check Current Weather Hourly at Perth\n",
            "3. Activities Suggestions & Weather Prediction assistant at Perth\n",
            "4. Check Other Location\n",
            "5. Exit Program\n",
            "Enter your choice (1-5): 1\n",
            "Timeout Error: HTTPSConnectionPool(host='wttr.in', port=443): Read timed out. (read timeout=10)\n",
            "🤖 Hello! Zizi, Welcome to Weather Wise. How can I help you at Perth?\n",
            "-----------------------------------------------------\n",
            "Please enter your choice (1 - 5):\n",
            "1. Check Current Weather & View Weather Forecast at Perth\n",
            "2. Check Current Weather Hourly at Perth\n",
            "3. Activities Suggestions & Weather Prediction assistant at Perth\n",
            "4. Check Other Location\n",
            "5. Exit Program\n",
            "Enter your choice (1-5): 3\n",
            "Unknown Error: Expecting value: line 1 column 1 (char 0)\n",
            "Failed to retrieve weather data.\n",
            "🤖 Hello! Zizi, Welcome to Weather Wise. How can I help you at Perth?\n",
            "-----------------------------------------------------\n",
            "Please enter your choice (1 - 5):\n",
            "1. Check Current Weather & View Weather Forecast at Perth\n",
            "2. Check Current Weather Hourly at Perth\n",
            "3. Activities Suggestions & Weather Prediction assistant at Perth\n",
            "4. Check Other Location\n",
            "5. Exit Program\n",
            "Enter your choice (1-5): 5\n",
            "Thankyou! Have a nice day Zizi 🌸\n"
          ]
        }
      ],
      "source": [
        "# Tie everything together here\n",
        "if __name__ == \"__main__\":\n",
        "    title = \"Weather Wise\"\n",
        "    blue_bold = \"\\033[1;94m\"  # 1 for bold, 94 for light blue\n",
        "    color = \"\\033[0m\"\n",
        "\n",
        "    print(\"=\" * 53)\n",
        "    print(\"\" + blue_bold + title.center(51) + color + \"\")\n",
        "    print(\"=\" * 53)\n",
        "\n",
        "    main()"
      ]
    },
    {
      "cell_type": "markdown",
      "id": "fde44479",
      "metadata": {
        "id": "fde44479"
      },
      "source": [
        "## 🧪 Testing and Examples"
      ]
    },
    {
      "cell_type": "code",
      "execution_count": null,
      "id": "4e573901",
      "metadata": {
        "id": "4e573901"
      },
      "outputs": [],
      "source": [
        "# Include sample input/output for each function"
      ]
    },
    {
      "cell_type": "markdown",
      "id": "d2885880",
      "metadata": {
        "id": "d2885880"
      },
      "source": [
        "## 🗂️ AI Prompting Log (Optional)\n",
        "Add markdown cells here summarising prompts used or link to AI conversations in the `ai-conversations/` folder."
      ]
    }
  ],
  "metadata": {
    "language_info": {
      "name": "python"
    },
    "colab": {
      "provenance": [],
      "include_colab_link": true
    },
    "kernelspec": {
      "name": "python3",
      "display_name": "Python 3"
    }
  },
  "nbformat": 4,
  "nbformat_minor": 5
}