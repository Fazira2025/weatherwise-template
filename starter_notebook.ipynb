{
  "cells": [
    {
      "cell_type": "markdown",
      "metadata": {
        "id": "view-in-github",
        "colab_type": "text"
      },
      "source": [
        "<a href=\"https://colab.research.google.com/github/Fazira2025/weatherwise-template/blob/main/starter_notebook.ipynb\" target=\"_parent\"><img src=\"https://colab.research.google.com/assets/colab-badge.svg\" alt=\"Open In Colab\"/></a>"
      ]
    },
    {
      "cell_type": "markdown",
      "id": "72e78a05",
      "metadata": {
        "id": "72e78a05"
      },
      "source": [
        "# 🌦️ WeatherWise – Starter Notebook\n",
        "\n",
        "Welcome to your **WeatherWise** project notebook! This scaffold is designed to help you build your weather advisor app using Python, visualisations, and AI-enhanced development.\n",
        "\n",
        "---\n",
        "\n",
        "\n"
      ]
    },
    {
      "cell_type": "code",
      "execution_count": null,
      "id": "70c3f3f1",
      "metadata": {
        "id": "70c3f3f1"
      },
      "outputs": [],
      "source": [
        "# 🧪 Optional packages — uncomment if needed in Colab or JupyterHub\n",
        "!pip install fetch-my-weather\n",
        "!pip install hands-on-ai\n"
      ]
    },
    {
      "cell_type": "markdown",
      "id": "59ae7543",
      "metadata": {
        "id": "59ae7543"
      },
      "source": [
        "## 📦 Setup and Configuration\n",
        "Import required packages and setup environment."
      ]
    },
    {
      "cell_type": "code",
      "execution_count": 3,
      "id": "f1dd051e",
      "metadata": {
        "id": "f1dd051e"
      },
      "outputs": [],
      "source": [
        "import requests"
      ]
    },
    {
      "cell_type": "markdown",
      "id": "f736ade3",
      "metadata": {
        "id": "f736ade3"
      },
      "source": [
        "## 🌤️ Weather Data Functions"
      ]
    },
    {
      "cell_type": "code",
      "execution_count": 4,
      "id": "7a2c7cd0",
      "metadata": {
        "id": "7a2c7cd0"
      },
      "outputs": [],
      "source": [
        "# Define get_weather_data() function here\n",
        "def get_weather_data(location):\n",
        "    try:\n",
        "        url = f'https://wttr.in/{location}'\n",
        "        response = requests.get(url)\n",
        "        response.raise_for_status()\n",
        "        print(response.text)\n",
        "    except requests.exceptions.HTTPError as errh:\n",
        "        print(f'HTTP Error: {errh}')\n",
        "    except requests.exceptions.ConnectionError as errc:\n",
        "        print(f'Connection Error: {errc}')\n",
        "    except requests.exceptions.Timeout as errt:\n",
        "        print(f'Timeout Error: {errt}')\n",
        "    except requests.exceptions.RequestException as err:\n",
        "        print(f'Error: {err}')"
      ]
    },
    {
      "cell_type": "markdown",
      "id": "8a744fdc",
      "metadata": {
        "id": "8a744fdc"
      },
      "source": [
        "## 📊 Visualisation Functions"
      ]
    },
    {
      "cell_type": "code",
      "execution_count": null,
      "id": "9dc3bf85",
      "metadata": {
        "id": "9dc3bf85"
      },
      "outputs": [],
      "source": [
        "# Define create_temperature_visualisation() and create_precipitation_visualisation() here\n"
      ]
    },
    {
      "cell_type": "code",
      "source": [
        "\n",
        "def create_precipitation_visualisation(weather_data, output_type='display'):\n",
        "    \"\"\"\n",
        "    Create visualisation of precipitation data.\n",
        "\n",
        "    Args:\n",
        "        weather_data (dict): The processed weather data\n",
        "        output_type (str): Either 'display' to show in notebook or 'figure' to return the figure\n",
        "\n",
        "    Returns:\n",
        "        If output_type is 'figure', returns the matplotlib figure object\n",
        "        Otherwise, displays the visualisation in the notebook\n",
        "    \"\"\"\n",
        "    pass"
      ],
      "metadata": {
        "id": "HpOlQylYG5Ho"
      },
      "id": "HpOlQylYG5Ho",
      "execution_count": null,
      "outputs": []
    },
    {
      "cell_type": "markdown",
      "id": "9f95d160",
      "metadata": {
        "id": "9f95d160"
      },
      "source": [
        "## 🤖 Natural Language Processing"
      ]
    },
    {
      "cell_type": "code",
      "execution_count": null,
      "id": "bcc5833e",
      "metadata": {
        "id": "bcc5833e"
      },
      "outputs": [],
      "source": [
        "# Define parse_weather_question() and generate_weather_response() here\n"
      ]
    },
    {
      "cell_type": "markdown",
      "id": "0d85225e",
      "metadata": {
        "id": "0d85225e"
      },
      "source": [
        "## 🧭 User Interface"
      ]
    },
    {
      "cell_type": "code",
      "execution_count": 5,
      "id": "fa6cb0f6",
      "metadata": {
        "id": "fa6cb0f6"
      },
      "outputs": [],
      "source": [
        "# Define menu functions using pyinputplus or ipywidgets here\n",
        "def main():\n",
        "  name = input('🤖: Hi! Please enter your name: ')\n",
        "  location = input(f'🤖: Which location would you like to check, {name}? ')\n",
        "  while True:\n",
        "        print('\\nHello! Welcome to Weather Wise. How can I help you?😊')\n",
        "        print(\"-\" * 53)\n",
        "        print('Please enter your choice (1 - 4):')\n",
        "        print(f'1. Check Current Weather & View Weather Forecast at {location}')\n",
        "        print(f'2. Activities Suggestions at {location} (Today, Tomorrow, Day After Tomorrow)')\n",
        "        print('3. Check Other Location ')\n",
        "        print('4. Exit Program ')\n",
        "\n",
        "        choice = input('Enter your choice (1-4): ')\n",
        "\n",
        "        if choice == \"1\":\n",
        "           get_weather_data(location)\n",
        "        elif choice == \"2\":\n",
        "            print('You chose Choice 2')\n",
        "        elif choice == \"3\":\n",
        "            print('')\n",
        "            location = input(f'{name}, Please enter your new location: ')\n",
        "            print(f'🤖: Your new location is {location}')\n",
        "            print('You chose Choice 3')\n",
        "        elif choice == \"4\":\n",
        "            print(f'Thankyou! Have a nice day {name} 🌸')\n",
        "            break\n",
        "        else:\n",
        "            print(\"\\033[1;31mInvalid choice. Please type 1-4 as a number!\\033[0m\") #error_handling"
      ]
    },
    {
      "cell_type": "markdown",
      "id": "d643a53c",
      "metadata": {
        "id": "d643a53c"
      },
      "source": [
        "## 🧩 Main Application Logic"
      ]
    },
    {
      "cell_type": "code",
      "execution_count": 6,
      "id": "a9e2e805",
      "metadata": {
        "id": "a9e2e805",
        "colab": {
          "base_uri": "https://localhost:8080/"
        },
        "outputId": "255ecc6b-0f20-4713-c030-a79ac346a82b"
      },
      "outputs": [
        {
          "output_type": "stream",
          "name": "stdout",
          "text": [
            "=====================================================\n",
            "\u001b[1;94m                    Weather Wise                   \u001b[0m\n",
            "=====================================================\n",
            "🤖: Hi! Please enter your name: Zizi\n",
            "🤖: Which location would you like to check, Zizi? Perth\n",
            "\n",
            "Hello! Welcome to Weather Wise. How can I help you?😊\n",
            "-----------------------------------------------------\n",
            "Please enter your choice (1 - 4):\n",
            "1. Check Current Weather & View Weather Forecast at Perth\n",
            "2. Activities Suggestions at Perth (Today, Tomorrow, Day After Tomorrow)\n",
            "3. Check Other Location \n",
            "4. Exit Program \n",
            "Enter your choice (1-4): 1\n",
            "Weather report: Perth\n",
            "\n",
            "  \u001b[38;5;226m    \\   /    \u001b[0m Clear\n",
            "  \u001b[38;5;226m     .-.     \u001b[0m \u001b[38;5;118m+55\u001b[0m(\u001b[38;5;082m53\u001b[0m) °F\u001b[0m     \n",
            "  \u001b[38;5;226m  ― (   ) ―  \u001b[0m \u001b[1m↖\u001b[0m \u001b[38;5;220m11\u001b[0m mph\u001b[0m       \n",
            "  \u001b[38;5;226m     `-’     \u001b[0m 6 mi\u001b[0m           \n",
            "  \u001b[38;5;226m    /   \\    \u001b[0m 0.0 in\u001b[0m         \n",
            "                                                       ┌─────────────┐                                                       \n",
            "┌──────────────────────────────┬───────────────────────┤  Mon 19 May ├───────────────────────┬──────────────────────────────┐\n",
            "│            Morning           │             Noon      └──────┬──────┘     Evening           │             Night            │\n",
            "├──────────────────────────────┼──────────────────────────────┼──────────────────────────────┼──────────────────────────────┤\n",
            "│ \u001b[38;5;226m    \\   /    \u001b[0m Sunny          │ \u001b[38;5;226m    \\   /    \u001b[0m Sunny          │ \u001b[38;5;226m _`/\"\"\u001b[38;5;250m.-.    \u001b[0m Patchy rain ne…│ \u001b[38;5;226m    \\   /    \u001b[0m Clear          │\n",
            "│ \u001b[38;5;226m     .-.     \u001b[0m \u001b[38;5;154m64\u001b[0m °F\u001b[0m          │ \u001b[38;5;226m     .-.     \u001b[0m \u001b[38;5;226m71\u001b[0m °F\u001b[0m          │ \u001b[38;5;226m  ,\\_\u001b[38;5;250m(   ).  \u001b[0m \u001b[38;5;190m66\u001b[0m °F\u001b[0m          │ \u001b[38;5;226m     .-.     \u001b[0m \u001b[38;5;154m60\u001b[0m °F\u001b[0m          │\n",
            "│ \u001b[38;5;226m  ― (   ) ―  \u001b[0m \u001b[1m↓\u001b[0m \u001b[38;5;190m7\u001b[0m-\u001b[38;5;220m9\u001b[0m mph\u001b[0m      │ \u001b[38;5;226m  ― (   ) ―  \u001b[0m \u001b[1m→\u001b[0m \u001b[38;5;190m7\u001b[0m-\u001b[38;5;226m8\u001b[0m mph\u001b[0m      │ \u001b[38;5;226m   /\u001b[38;5;250m(___(__) \u001b[0m \u001b[1m↑\u001b[0m \u001b[38;5;208m16\u001b[0m-\u001b[38;5;196m21\u001b[0m mph\u001b[0m    │ \u001b[38;5;226m  ― (   ) ―  \u001b[0m \u001b[1m↖\u001b[0m \u001b[38;5;214m13\u001b[0m-\u001b[38;5;202m17\u001b[0m mph\u001b[0m    │\n",
            "│ \u001b[38;5;226m     `-’     \u001b[0m 6 mi\u001b[0m           │ \u001b[38;5;226m     `-’     \u001b[0m 6 mi\u001b[0m           │ \u001b[38;5;111m     ‘ ‘ ‘ ‘ \u001b[0m 6 mi\u001b[0m           │ \u001b[38;5;226m     `-’     \u001b[0m 6 mi\u001b[0m           │\n",
            "│ \u001b[38;5;226m    /   \\    \u001b[0m 0.0 in | 0%\u001b[0m    │ \u001b[38;5;226m    /   \\    \u001b[0m 0.0 in | 0%\u001b[0m    │ \u001b[38;5;111m    ‘ ‘ ‘ ‘  \u001b[0m 0.0 in | 86%\u001b[0m   │ \u001b[38;5;226m    /   \\    \u001b[0m 0.0 in | 0%\u001b[0m    │\n",
            "└──────────────────────────────┴──────────────────────────────┴──────────────────────────────┴──────────────────────────────┘\n",
            "                                                       ┌─────────────┐                                                       \n",
            "┌──────────────────────────────┬───────────────────────┤  Tue 20 May ├───────────────────────┬──────────────────────────────┐\n",
            "│            Morning           │             Noon      └──────┬──────┘     Evening           │             Night            │\n",
            "├──────────────────────────────┼──────────────────────────────┼──────────────────────────────┼──────────────────────────────┤\n",
            "│ \u001b[38;5;226m    \\   /    \u001b[0m Sunny          │ \u001b[38;5;226m    \\   /    \u001b[0m Sunny          │ \u001b[38;5;226m    \\   /    \u001b[0m Clear          │ \u001b[38;5;226m    \\   /    \u001b[0m Clear          │\n",
            "│ \u001b[38;5;226m     .-.     \u001b[0m \u001b[38;5;118m+59\u001b[0m(\u001b[38;5;118m55\u001b[0m) °F\u001b[0m     │ \u001b[38;5;226m     .-.     \u001b[0m \u001b[38;5;190m68\u001b[0m °F\u001b[0m          │ \u001b[38;5;226m     .-.     \u001b[0m \u001b[38;5;190m66\u001b[0m °F\u001b[0m          │ \u001b[38;5;226m     .-.     \u001b[0m \u001b[38;5;154m64\u001b[0m °F\u001b[0m          │\n",
            "│ \u001b[38;5;226m  ― (   ) ―  \u001b[0m \u001b[1m←\u001b[0m \u001b[38;5;220m10\u001b[0m-\u001b[38;5;214m13\u001b[0m mph\u001b[0m    │ \u001b[38;5;226m  ― (   ) ―  \u001b[0m \u001b[1m←\u001b[0m \u001b[38;5;190m7\u001b[0m-\u001b[38;5;226m8\u001b[0m mph\u001b[0m      │ \u001b[38;5;226m  ― (   ) ―  \u001b[0m \u001b[1m↖\u001b[0m \u001b[38;5;226m9\u001b[0m-\u001b[38;5;208m16\u001b[0m mph\u001b[0m     │ \u001b[38;5;226m  ― (   ) ―  \u001b[0m \u001b[1m←\u001b[0m \u001b[38;5;226m8\u001b[0m-\u001b[38;5;208m15\u001b[0m mph\u001b[0m     │\n",
            "│ \u001b[38;5;226m     `-’     \u001b[0m 6 mi\u001b[0m           │ \u001b[38;5;226m     `-’     \u001b[0m 6 mi\u001b[0m           │ \u001b[38;5;226m     `-’     \u001b[0m 6 mi\u001b[0m           │ \u001b[38;5;226m     `-’     \u001b[0m 6 mi\u001b[0m           │\n",
            "│ \u001b[38;5;226m    /   \\    \u001b[0m 0.0 in | 0%\u001b[0m    │ \u001b[38;5;226m    /   \\    \u001b[0m 0.0 in | 0%\u001b[0m    │ \u001b[38;5;226m    /   \\    \u001b[0m 0.0 in | 0%\u001b[0m    │ \u001b[38;5;226m    /   \\    \u001b[0m 0.0 in | 0%\u001b[0m    │\n",
            "└──────────────────────────────┴──────────────────────────────┴──────────────────────────────┴──────────────────────────────┘\n",
            "                                                       ┌─────────────┐                                                       \n",
            "┌──────────────────────────────┬───────────────────────┤  Wed 21 May ├───────────────────────┬──────────────────────────────┐\n",
            "│            Morning           │             Noon      └──────┬──────┘     Evening           │             Night            │\n",
            "├──────────────────────────────┼──────────────────────────────┼──────────────────────────────┼──────────────────────────────┤\n",
            "│ \u001b[38;5;226m    \\   /    \u001b[0m Sunny          │ \u001b[38;5;226m    \\   /    \u001b[0m Sunny          │ \u001b[38;5;226m    \\   /    \u001b[0m Clear          │ \u001b[38;5;226m    \\   /    \u001b[0m Clear          │\n",
            "│ \u001b[38;5;226m     .-.     \u001b[0m \u001b[38;5;154m62\u001b[0m °F\u001b[0m          │ \u001b[38;5;226m     .-.     \u001b[0m \u001b[38;5;226m+73\u001b[0m(\u001b[38;5;226m75\u001b[0m) °F\u001b[0m     │ \u001b[38;5;226m     .-.     \u001b[0m \u001b[38;5;190m69\u001b[0m °F\u001b[0m          │ \u001b[38;5;226m     .-.     \u001b[0m \u001b[38;5;154m64\u001b[0m °F\u001b[0m          │\n",
            "│ \u001b[38;5;226m  ― (   ) ―  \u001b[0m \u001b[1m↙\u001b[0m \u001b[38;5;220m10\u001b[0m-\u001b[38;5;214m13\u001b[0m mph\u001b[0m    │ \u001b[38;5;226m  ― (   ) ―  \u001b[0m \u001b[1m↓\u001b[0m \u001b[38;5;190m7\u001b[0m-\u001b[38;5;226m8\u001b[0m mph\u001b[0m      │ \u001b[38;5;226m  ― (   ) ―  \u001b[0m \u001b[1m↖\u001b[0m \u001b[38;5;190m6\u001b[0m-\u001b[38;5;220m11\u001b[0m mph\u001b[0m     │ \u001b[38;5;226m  ― (   ) ―  \u001b[0m \u001b[1m←\u001b[0m \u001b[38;5;154m5\u001b[0m-\u001b[38;5;220m9\u001b[0m mph\u001b[0m      │\n",
            "│ \u001b[38;5;226m     `-’     \u001b[0m 6 mi\u001b[0m           │ \u001b[38;5;226m     `-’     \u001b[0m 6 mi\u001b[0m           │ \u001b[38;5;226m     `-’     \u001b[0m 6 mi\u001b[0m           │ \u001b[38;5;226m     `-’     \u001b[0m 6 mi\u001b[0m           │\n",
            "│ \u001b[38;5;226m    /   \\    \u001b[0m 0.0 in | 0%\u001b[0m    │ \u001b[38;5;226m    /   \\    \u001b[0m 0.0 in | 0%\u001b[0m    │ \u001b[38;5;226m    /   \\    \u001b[0m 0.0 in | 0%\u001b[0m    │ \u001b[38;5;226m    /   \\    \u001b[0m 0.0 in | 0%\u001b[0m    │\n",
            "└──────────────────────────────┴──────────────────────────────┴──────────────────────────────┴──────────────────────────────┘\n",
            "Location: Perth, Western Australia, Australia [-31.952712,115.8604796]\n",
            "\n",
            "Follow \u001b[46m\u001b[30m@igor_chubin\u001b[0m for wttr.in updates\n",
            "\n",
            "\n",
            "Hello! Welcome to Weather Wise. How can I help you?😊\n",
            "-----------------------------------------------------\n",
            "Please enter your choice (1 - 4):\n",
            "1. Check Current Weather & View Weather Forecast at Perth\n",
            "2. Activities Suggestions at Perth (Today, Tomorrow, Day After Tomorrow)\n",
            "3. Check Other Location \n",
            "4. Exit Program \n",
            "Enter your choice (1-4): 3\n",
            "\n",
            "Zizi, Please enter your new location: Bali\n",
            "🤖: Your new location is Bali\n",
            "You chose Choice 3\n",
            "\n",
            "Hello! Welcome to Weather Wise. How can I help you?😊\n",
            "-----------------------------------------------------\n",
            "Please enter your choice (1 - 4):\n",
            "1. Check Current Weather & View Weather Forecast at Bali\n",
            "2. Activities Suggestions at Bali (Today, Tomorrow, Day After Tomorrow)\n",
            "3. Check Other Location \n",
            "4. Exit Program \n",
            "Enter your choice (1-4): 1\n",
            "Weather report: Bali\n",
            "\n",
            "  \u001b[38;5;226m    \\   /    \u001b[0m Sunny\n",
            "  \u001b[38;5;226m     .-.     \u001b[0m \u001b[38;5;190m69\u001b[0m °F\u001b[0m          \n",
            "  \u001b[38;5;226m  ― (   ) ―  \u001b[0m \u001b[1m←\u001b[0m \u001b[38;5;226m8\u001b[0m mph\u001b[0m        \n",
            "  \u001b[38;5;226m     `-’     \u001b[0m 6 mi\u001b[0m           \n",
            "  \u001b[38;5;226m    /   \\    \u001b[0m 0.0 in\u001b[0m         \n",
            "                                                       ┌─────────────┐                                                       \n",
            "┌──────────────────────────────┬───────────────────────┤  Mon 19 May ├───────────────────────┬──────────────────────────────┐\n",
            "│            Morning           │             Noon      └──────┬──────┘     Evening           │             Night            │\n",
            "├──────────────────────────────┼──────────────────────────────┼──────────────────────────────┼──────────────────────────────┤\n",
            "│ \u001b[38;5;226m    \\   /    \u001b[0m Sunny          │               Overcast       │ \u001b[38;5;226m   \\  /\u001b[0m       Partly Cloudy  │ \u001b[38;5;226m    \\   /    \u001b[0m Sunny          │\n",
            "│ \u001b[38;5;226m     .-.     \u001b[0m \u001b[38;5;154m60\u001b[0m °F\u001b[0m          │ \u001b[38;5;240;1m     .--.    \u001b[0m \u001b[38;5;190m68\u001b[0m °F\u001b[0m          │ \u001b[38;5;226m _ /\"\"\u001b[38;5;250m.-.    \u001b[0m \u001b[38;5;190m69\u001b[0m °F\u001b[0m          │ \u001b[38;5;226m     .-.     \u001b[0m \u001b[38;5;154m60\u001b[0m °F\u001b[0m          │\n",
            "│ \u001b[38;5;226m  ― (   ) ―  \u001b[0m \u001b[1m↙\u001b[0m \u001b[38;5;226m8\u001b[0m-\u001b[38;5;226m9\u001b[0m mph\u001b[0m      │ \u001b[38;5;240;1m  .-(    ).  \u001b[0m \u001b[1m←\u001b[0m \u001b[38;5;220m9\u001b[0m-\u001b[38;5;220m11\u001b[0m mph\u001b[0m     │ \u001b[38;5;226m   \\_\u001b[38;5;250m(   ).  \u001b[0m \u001b[1m↙\u001b[0m \u001b[38;5;226m9\u001b[0m-\u001b[38;5;220m11\u001b[0m mph\u001b[0m     │ \u001b[38;5;226m  ― (   ) ―  \u001b[0m \u001b[1m↙\u001b[0m \u001b[38;5;190m6\u001b[0m-\u001b[38;5;220m11\u001b[0m mph\u001b[0m     │\n",
            "│ \u001b[38;5;226m     `-’     \u001b[0m 6 mi\u001b[0m           │ \u001b[38;5;240;1m (___.__)__) \u001b[0m 6 mi\u001b[0m           │ \u001b[38;5;226m   /\u001b[38;5;250m(___(__) \u001b[0m 6 mi\u001b[0m           │ \u001b[38;5;226m     `-’     \u001b[0m 6 mi\u001b[0m           │\n",
            "│ \u001b[38;5;226m    /   \\    \u001b[0m 0.0 in | 0%\u001b[0m    │               0.0 in | 0%\u001b[0m    │               0.0 in | 0%\u001b[0m    │ \u001b[38;5;226m    /   \\    \u001b[0m 0.0 in | 0%\u001b[0m    │\n",
            "└──────────────────────────────┴──────────────────────────────┴──────────────────────────────┴──────────────────────────────┘\n",
            "                                                       ┌─────────────┐                                                       \n",
            "┌──────────────────────────────┬───────────────────────┤  Tue 20 May ├───────────────────────┬──────────────────────────────┐\n",
            "│            Morning           │             Noon      └──────┬──────┘     Evening           │             Night            │\n",
            "├──────────────────────────────┼──────────────────────────────┼──────────────────────────────┼──────────────────────────────┤\n",
            "│ \u001b[38;5;226m    \\   /    \u001b[0m Sunny          │ \u001b[38;5;226m    \\   /    \u001b[0m Sunny          │ \u001b[38;5;226m   \\  /\u001b[0m       Partly Cloudy  │ \u001b[38;5;226m    \\   /    \u001b[0m Sunny          │\n",
            "│ \u001b[38;5;226m     .-.     \u001b[0m \u001b[38;5;154m62\u001b[0m °F\u001b[0m          │ \u001b[38;5;226m     .-.     \u001b[0m \u001b[38;5;226m71\u001b[0m °F\u001b[0m          │ \u001b[38;5;226m _ /\"\"\u001b[38;5;250m.-.    \u001b[0m \u001b[38;5;226m+71\u001b[0m(\u001b[38;5;226m75\u001b[0m) °F\u001b[0m     │ \u001b[38;5;226m     .-.     \u001b[0m \u001b[38;5;154m60\u001b[0m °F\u001b[0m          │\n",
            "│ \u001b[38;5;226m  ― (   ) ―  \u001b[0m \u001b[1m↓\u001b[0m \u001b[38;5;190m6\u001b[0m-\u001b[38;5;190m7\u001b[0m mph\u001b[0m      │ \u001b[38;5;226m  ― (   ) ―  \u001b[0m \u001b[1m↓\u001b[0m \u001b[38;5;226m8\u001b[0m-\u001b[38;5;226m9\u001b[0m mph\u001b[0m      │ \u001b[38;5;226m   \\_\u001b[38;5;250m(   ).  \u001b[0m \u001b[1m↓\u001b[0m \u001b[38;5;220m9\u001b[0m-\u001b[38;5;214m13\u001b[0m mph\u001b[0m     │ \u001b[38;5;226m  ― (   ) ―  \u001b[0m \u001b[1m↓\u001b[0m \u001b[38;5;220m9\u001b[0m-\u001b[38;5;208m15\u001b[0m mph\u001b[0m     │\n",
            "│ \u001b[38;5;226m     `-’     \u001b[0m 6 mi\u001b[0m           │ \u001b[38;5;226m     `-’     \u001b[0m 6 mi\u001b[0m           │ \u001b[38;5;226m   /\u001b[38;5;250m(___(__) \u001b[0m 6 mi\u001b[0m           │ \u001b[38;5;226m     `-’     \u001b[0m 6 mi\u001b[0m           │\n",
            "│ \u001b[38;5;226m    /   \\    \u001b[0m 0.0 in | 0%\u001b[0m    │ \u001b[38;5;226m    /   \\    \u001b[0m 0.0 in | 0%\u001b[0m    │               0.0 in | 0%\u001b[0m    │ \u001b[38;5;226m    /   \\    \u001b[0m 0.0 in | 0%\u001b[0m    │\n",
            "└──────────────────────────────┴──────────────────────────────┴──────────────────────────────┴──────────────────────────────┘\n",
            "                                                       ┌─────────────┐                                                       \n",
            "┌──────────────────────────────┬───────────────────────┤  Wed 21 May ├───────────────────────┬──────────────────────────────┐\n",
            "│            Morning           │             Noon      └──────┬──────┘     Evening           │             Night            │\n",
            "├──────────────────────────────┼──────────────────────────────┼──────────────────────────────┼──────────────────────────────┤\n",
            "│               Overcast       │               Cloudy         │ \u001b[38;5;226m _`/\"\"\u001b[38;5;250m.-.    \u001b[0m Patchy rain ne…│ \u001b[38;5;226m   \\  /\u001b[0m       Partly Cloudy  │\n",
            "│ \u001b[38;5;240;1m     .--.    \u001b[0m \u001b[38;5;118m+59\u001b[0m(\u001b[38;5;118m57\u001b[0m) °F\u001b[0m     │ \u001b[38;5;250m     .--.    \u001b[0m \u001b[38;5;190m66\u001b[0m °F\u001b[0m          │ \u001b[38;5;226m  ,\\_\u001b[38;5;250m(   ).  \u001b[0m \u001b[38;5;154m64\u001b[0m °F\u001b[0m          │ \u001b[38;5;226m _ /\"\"\u001b[38;5;250m.-.    \u001b[0m \u001b[38;5;118m59\u001b[0m °F\u001b[0m          │\n",
            "│ \u001b[38;5;240;1m  .-(    ).  \u001b[0m \u001b[1m↓\u001b[0m \u001b[38;5;154m5\u001b[0m-\u001b[38;5;190m6\u001b[0m mph\u001b[0m      │ \u001b[38;5;250m  .-(    ).  \u001b[0m \u001b[1m↓\u001b[0m \u001b[38;5;190m7\u001b[0m-\u001b[38;5;226m8\u001b[0m mph\u001b[0m      │ \u001b[38;5;226m   /\u001b[38;5;250m(___(__) \u001b[0m \u001b[1m↓\u001b[0m \u001b[38;5;190m7\u001b[0m-\u001b[38;5;220m9\u001b[0m mph\u001b[0m      │ \u001b[38;5;226m   \\_\u001b[38;5;250m(   ).  \u001b[0m \u001b[1m↓\u001b[0m \u001b[38;5;154m5\u001b[0m-\u001b[38;5;220m9\u001b[0m mph\u001b[0m      │\n",
            "│ \u001b[38;5;240;1m (___.__)__) \u001b[0m 6 mi\u001b[0m           │ \u001b[38;5;250m (___.__)__) \u001b[0m 6 mi\u001b[0m           │ \u001b[38;5;111m     ‘ ‘ ‘ ‘ \u001b[0m 6 mi\u001b[0m           │ \u001b[38;5;226m   /\u001b[38;5;250m(___(__) \u001b[0m 6 mi\u001b[0m           │\n",
            "│               0.0 in | 0%\u001b[0m    │               0.0 in | 0%\u001b[0m    │ \u001b[38;5;111m    ‘ ‘ ‘ ‘  \u001b[0m 0.0 in | 100%\u001b[0m  │               0.0 in | 0%\u001b[0m    │\n",
            "└──────────────────────────────┴──────────────────────────────┴──────────────────────────────┴──────────────────────────────┘\n",
            "Location: Paris, Île-de-France, France [48.8566101,2.3514992]\n",
            "\n",
            "Follow \u001b[46m\u001b[30m@igor_chubin\u001b[0m for wttr.in updates\n",
            "\n",
            "\n",
            "Hello! Welcome to Weather Wise. How can I help you?😊\n",
            "-----------------------------------------------------\n",
            "Please enter your choice (1 - 4):\n",
            "1. Check Current Weather & View Weather Forecast at Bali\n",
            "2. Activities Suggestions at Bali (Today, Tomorrow, Day After Tomorrow)\n",
            "3. Check Other Location \n",
            "4. Exit Program \n",
            "Enter your choice (1-4): 1\n",
            "Weather report: Bali\n",
            "\n",
            "  \u001b[38;5;226m    \\   /    \u001b[0m Sunny\n",
            "  \u001b[38;5;226m     .-.     \u001b[0m \u001b[38;5;190m69\u001b[0m °F\u001b[0m          \n",
            "  \u001b[38;5;226m  ― (   ) ―  \u001b[0m \u001b[1m←\u001b[0m \u001b[38;5;226m8\u001b[0m mph\u001b[0m        \n",
            "  \u001b[38;5;226m     `-’     \u001b[0m 6 mi\u001b[0m           \n",
            "  \u001b[38;5;226m    /   \\    \u001b[0m 0.0 in\u001b[0m         \n",
            "                                                       ┌─────────────┐                                                       \n",
            "┌──────────────────────────────┬───────────────────────┤  Mon 19 May ├───────────────────────┬──────────────────────────────┐\n",
            "│            Morning           │             Noon      └──────┬──────┘     Evening           │             Night            │\n",
            "├──────────────────────────────┼──────────────────────────────┼──────────────────────────────┼──────────────────────────────┤\n",
            "│ \u001b[38;5;226m    \\   /    \u001b[0m Sunny          │               Overcast       │ \u001b[38;5;226m   \\  /\u001b[0m       Partly Cloudy  │ \u001b[38;5;226m    \\   /    \u001b[0m Sunny          │\n",
            "│ \u001b[38;5;226m     .-.     \u001b[0m \u001b[38;5;154m60\u001b[0m °F\u001b[0m          │ \u001b[38;5;240;1m     .--.    \u001b[0m \u001b[38;5;190m68\u001b[0m °F\u001b[0m          │ \u001b[38;5;226m _ /\"\"\u001b[38;5;250m.-.    \u001b[0m \u001b[38;5;190m69\u001b[0m °F\u001b[0m          │ \u001b[38;5;226m     .-.     \u001b[0m \u001b[38;5;154m60\u001b[0m °F\u001b[0m          │\n",
            "│ \u001b[38;5;226m  ― (   ) ―  \u001b[0m \u001b[1m↙\u001b[0m \u001b[38;5;226m8\u001b[0m-\u001b[38;5;226m9\u001b[0m mph\u001b[0m      │ \u001b[38;5;240;1m  .-(    ).  \u001b[0m \u001b[1m←\u001b[0m \u001b[38;5;220m9\u001b[0m-\u001b[38;5;220m11\u001b[0m mph\u001b[0m     │ \u001b[38;5;226m   \\_\u001b[38;5;250m(   ).  \u001b[0m \u001b[1m↙\u001b[0m \u001b[38;5;226m9\u001b[0m-\u001b[38;5;220m11\u001b[0m mph\u001b[0m     │ \u001b[38;5;226m  ― (   ) ―  \u001b[0m \u001b[1m↙\u001b[0m \u001b[38;5;190m6\u001b[0m-\u001b[38;5;220m11\u001b[0m mph\u001b[0m     │\n",
            "│ \u001b[38;5;226m     `-’     \u001b[0m 6 mi\u001b[0m           │ \u001b[38;5;240;1m (___.__)__) \u001b[0m 6 mi\u001b[0m           │ \u001b[38;5;226m   /\u001b[38;5;250m(___(__) \u001b[0m 6 mi\u001b[0m           │ \u001b[38;5;226m     `-’     \u001b[0m 6 mi\u001b[0m           │\n",
            "│ \u001b[38;5;226m    /   \\    \u001b[0m 0.0 in | 0%\u001b[0m    │               0.0 in | 0%\u001b[0m    │               0.0 in | 0%\u001b[0m    │ \u001b[38;5;226m    /   \\    \u001b[0m 0.0 in | 0%\u001b[0m    │\n",
            "└──────────────────────────────┴──────────────────────────────┴──────────────────────────────┴──────────────────────────────┘\n",
            "                                                       ┌─────────────┐                                                       \n",
            "┌──────────────────────────────┬───────────────────────┤  Tue 20 May ├───────────────────────┬──────────────────────────────┐\n",
            "│            Morning           │             Noon      └──────┬──────┘     Evening           │             Night            │\n",
            "├──────────────────────────────┼──────────────────────────────┼──────────────────────────────┼──────────────────────────────┤\n",
            "│ \u001b[38;5;226m    \\   /    \u001b[0m Sunny          │ \u001b[38;5;226m    \\   /    \u001b[0m Sunny          │ \u001b[38;5;226m   \\  /\u001b[0m       Partly Cloudy  │ \u001b[38;5;226m    \\   /    \u001b[0m Sunny          │\n",
            "│ \u001b[38;5;226m     .-.     \u001b[0m \u001b[38;5;154m62\u001b[0m °F\u001b[0m          │ \u001b[38;5;226m     .-.     \u001b[0m \u001b[38;5;226m71\u001b[0m °F\u001b[0m          │ \u001b[38;5;226m _ /\"\"\u001b[38;5;250m.-.    \u001b[0m \u001b[38;5;226m+71\u001b[0m(\u001b[38;5;226m75\u001b[0m) °F\u001b[0m     │ \u001b[38;5;226m     .-.     \u001b[0m \u001b[38;5;154m60\u001b[0m °F\u001b[0m          │\n",
            "│ \u001b[38;5;226m  ― (   ) ―  \u001b[0m \u001b[1m↓\u001b[0m \u001b[38;5;190m6\u001b[0m-\u001b[38;5;190m7\u001b[0m mph\u001b[0m      │ \u001b[38;5;226m  ― (   ) ―  \u001b[0m \u001b[1m↓\u001b[0m \u001b[38;5;226m8\u001b[0m-\u001b[38;5;226m9\u001b[0m mph\u001b[0m      │ \u001b[38;5;226m   \\_\u001b[38;5;250m(   ).  \u001b[0m \u001b[1m↓\u001b[0m \u001b[38;5;220m9\u001b[0m-\u001b[38;5;214m13\u001b[0m mph\u001b[0m     │ \u001b[38;5;226m  ― (   ) ―  \u001b[0m \u001b[1m↓\u001b[0m \u001b[38;5;220m9\u001b[0m-\u001b[38;5;208m15\u001b[0m mph\u001b[0m     │\n",
            "│ \u001b[38;5;226m     `-’     \u001b[0m 6 mi\u001b[0m           │ \u001b[38;5;226m     `-’     \u001b[0m 6 mi\u001b[0m           │ \u001b[38;5;226m   /\u001b[38;5;250m(___(__) \u001b[0m 6 mi\u001b[0m           │ \u001b[38;5;226m     `-’     \u001b[0m 6 mi\u001b[0m           │\n",
            "│ \u001b[38;5;226m    /   \\    \u001b[0m 0.0 in | 0%\u001b[0m    │ \u001b[38;5;226m    /   \\    \u001b[0m 0.0 in | 0%\u001b[0m    │               0.0 in | 0%\u001b[0m    │ \u001b[38;5;226m    /   \\    \u001b[0m 0.0 in | 0%\u001b[0m    │\n",
            "└──────────────────────────────┴──────────────────────────────┴──────────────────────────────┴──────────────────────────────┘\n",
            "                                                       ┌─────────────┐                                                       \n",
            "┌──────────────────────────────┬───────────────────────┤  Wed 21 May ├───────────────────────┬──────────────────────────────┐\n",
            "│            Morning           │             Noon      └──────┬──────┘     Evening           │             Night            │\n",
            "├──────────────────────────────┼──────────────────────────────┼──────────────────────────────┼──────────────────────────────┤\n",
            "│               Overcast       │               Cloudy         │ \u001b[38;5;226m _`/\"\"\u001b[38;5;250m.-.    \u001b[0m Patchy rain ne…│ \u001b[38;5;226m   \\  /\u001b[0m       Partly Cloudy  │\n",
            "│ \u001b[38;5;240;1m     .--.    \u001b[0m \u001b[38;5;118m+59\u001b[0m(\u001b[38;5;118m57\u001b[0m) °F\u001b[0m     │ \u001b[38;5;250m     .--.    \u001b[0m \u001b[38;5;190m66\u001b[0m °F\u001b[0m          │ \u001b[38;5;226m  ,\\_\u001b[38;5;250m(   ).  \u001b[0m \u001b[38;5;154m64\u001b[0m °F\u001b[0m          │ \u001b[38;5;226m _ /\"\"\u001b[38;5;250m.-.    \u001b[0m \u001b[38;5;118m59\u001b[0m °F\u001b[0m          │\n",
            "│ \u001b[38;5;240;1m  .-(    ).  \u001b[0m \u001b[1m↓\u001b[0m \u001b[38;5;154m5\u001b[0m-\u001b[38;5;190m6\u001b[0m mph\u001b[0m      │ \u001b[38;5;250m  .-(    ).  \u001b[0m \u001b[1m↓\u001b[0m \u001b[38;5;190m7\u001b[0m-\u001b[38;5;226m8\u001b[0m mph\u001b[0m      │ \u001b[38;5;226m   /\u001b[38;5;250m(___(__) \u001b[0m \u001b[1m↓\u001b[0m \u001b[38;5;190m7\u001b[0m-\u001b[38;5;220m9\u001b[0m mph\u001b[0m      │ \u001b[38;5;226m   \\_\u001b[38;5;250m(   ).  \u001b[0m \u001b[1m↓\u001b[0m \u001b[38;5;154m5\u001b[0m-\u001b[38;5;220m9\u001b[0m mph\u001b[0m      │\n",
            "│ \u001b[38;5;240;1m (___.__)__) \u001b[0m 6 mi\u001b[0m           │ \u001b[38;5;250m (___.__)__) \u001b[0m 6 mi\u001b[0m           │ \u001b[38;5;111m     ‘ ‘ ‘ ‘ \u001b[0m 6 mi\u001b[0m           │ \u001b[38;5;226m   /\u001b[38;5;250m(___(__) \u001b[0m 6 mi\u001b[0m           │\n",
            "│               0.0 in | 0%\u001b[0m    │               0.0 in | 0%\u001b[0m    │ \u001b[38;5;111m    ‘ ‘ ‘ ‘  \u001b[0m 0.0 in | 100%\u001b[0m  │               0.0 in | 0%\u001b[0m    │\n",
            "└──────────────────────────────┴──────────────────────────────┴──────────────────────────────┴──────────────────────────────┘\n",
            "Location: Paris, Île-de-France, France [48.8566101,2.3514992]\n",
            "\n",
            "Follow \u001b[46m\u001b[30m@igor_chubin\u001b[0m for wttr.in updates\n",
            "\n",
            "\n",
            "Hello! Welcome to Weather Wise. How can I help you?😊\n",
            "-----------------------------------------------------\n",
            "Please enter your choice (1 - 4):\n",
            "1. Check Current Weather & View Weather Forecast at Bali\n",
            "2. Activities Suggestions at Bali (Today, Tomorrow, Day After Tomorrow)\n",
            "3. Check Other Location \n",
            "4. Exit Program \n",
            "Enter your choice (1-4): 3\n",
            "\n",
            "Zizi, Please enter your new location: Swiss\n",
            "🤖: Your new location is Swiss\n",
            "You chose Choice 3\n",
            "\n",
            "Hello! Welcome to Weather Wise. How can I help you?😊\n",
            "-----------------------------------------------------\n",
            "Please enter your choice (1 - 4):\n",
            "1. Check Current Weather & View Weather Forecast at Swiss\n",
            "2. Activities Suggestions at Swiss (Today, Tomorrow, Day After Tomorrow)\n",
            "3. Check Other Location \n",
            "4. Exit Program \n",
            "Enter your choice (1-4): 1\n",
            "Weather report: Swiss\n",
            "\n",
            "  \u001b[38;5;226m _`/\"\"\u001b[38;5;250m.-.    \u001b[0m Light rain shower\n",
            "  \u001b[38;5;226m  ,\\_\u001b[38;5;250m(   ).  \u001b[0m \u001b[38;5;226m+73\u001b[0m(\u001b[38;5;220m77\u001b[0m) °F\u001b[0m     \n",
            "  \u001b[38;5;226m   /\u001b[38;5;250m(___(__) \u001b[0m \u001b[1m↘\u001b[0m \u001b[38;5;118m2\u001b[0m mph\u001b[0m        \n",
            "  \u001b[38;5;111m     ‘ ‘ ‘ ‘ \u001b[0m 6 mi\u001b[0m           \n",
            "  \u001b[38;5;111m    ‘ ‘ ‘ ‘  \u001b[0m 0.0 in\u001b[0m         \n",
            "                                                       ┌─────────────┐                                                       \n",
            "┌──────────────────────────────┬───────────────────────┤  Mon 19 May ├───────────────────────┬──────────────────────────────┐\n",
            "│            Morning           │             Noon      └──────┬──────┘     Evening           │             Night            │\n",
            "├──────────────────────────────┼──────────────────────────────┼──────────────────────────────┼──────────────────────────────┤\n",
            "│ \u001b[38;5;226m    \\   /    \u001b[0m Sunny          │ \u001b[38;5;226m    \\   /    \u001b[0m Sunny          │ \u001b[38;5;226m _`/\"\"\u001b[38;5;250m.-.    \u001b[0m Light rain sho…│ \u001b[38;5;226m _`/\"\"\u001b[38;5;250m.-.    \u001b[0m Patchy rain ne…│\n",
            "│ \u001b[38;5;226m     .-.     \u001b[0m \u001b[38;5;082m53\u001b[0m °F\u001b[0m          │ \u001b[38;5;226m     .-.     \u001b[0m \u001b[38;5;118m57\u001b[0m °F\u001b[0m          │ \u001b[38;5;226m  ,\\_\u001b[38;5;250m(   ).  \u001b[0m \u001b[38;5;226m+73\u001b[0m(\u001b[38;5;082m51\u001b[0m) °F\u001b[0m     │ \u001b[38;5;226m  ,\\_\u001b[38;5;250m(   ).  \u001b[0m \u001b[38;5;046m+46\u001b[0m(\u001b[38;5;047m42\u001b[0m) °F\u001b[0m     │\n",
            "│ \u001b[38;5;226m  ― (   ) ―  \u001b[0m \u001b[1m↓\u001b[0m \u001b[38;5;118m3\u001b[0m mph\u001b[0m        │ \u001b[38;5;226m  ― (   ) ―  \u001b[0m \u001b[1m↓\u001b[0m \u001b[38;5;154m5\u001b[0m-\u001b[38;5;190m6\u001b[0m mph\u001b[0m      │ \u001b[38;5;226m   /\u001b[38;5;250m(___(__) \u001b[0m \u001b[1m↘\u001b[0m \u001b[38;5;118m2\u001b[0m-\u001b[38;5;154m4\u001b[0m mph\u001b[0m      │ \u001b[38;5;226m   /\u001b[38;5;250m(___(__) \u001b[0m \u001b[1m↖\u001b[0m \u001b[38;5;154m4\u001b[0m-\u001b[38;5;220m10\u001b[0m mph\u001b[0m     │\n",
            "│ \u001b[38;5;226m     `-’     \u001b[0m 6 mi\u001b[0m           │ \u001b[38;5;226m     `-’     \u001b[0m 6 mi\u001b[0m           │ \u001b[38;5;111m     ‘ ‘ ‘ ‘ \u001b[0m 6 mi\u001b[0m           │ \u001b[38;5;111m     ‘ ‘ ‘ ‘ \u001b[0m 6 mi\u001b[0m           │\n",
            "│ \u001b[38;5;226m    /   \\    \u001b[0m 0.0 in | 0%\u001b[0m    │ \u001b[38;5;226m    /   \\    \u001b[0m 0.0 in | 0%\u001b[0m    │ \u001b[38;5;111m    ‘ ‘ ‘ ‘  \u001b[0m 0.0 in | 100%\u001b[0m  │ \u001b[38;5;111m    ‘ ‘ ‘ ‘  \u001b[0m 0.0 in | 100%\u001b[0m  │\n",
            "└──────────────────────────────┴──────────────────────────────┴──────────────────────────────┴──────────────────────────────┘\n",
            "                                                       ┌─────────────┐                                                       \n",
            "┌──────────────────────────────┬───────────────────────┤  Tue 20 May ├───────────────────────┬──────────────────────────────┐\n",
            "│            Morning           │             Noon      └──────┬──────┘     Evening           │             Night            │\n",
            "├──────────────────────────────┼──────────────────────────────┼──────────────────────────────┼──────────────────────────────┤\n",
            "│ \u001b[38;5;226m _`/\"\"\u001b[38;5;250m.-.    \u001b[0m Patchy light r…│ \u001b[38;5;226m _`/\"\"\u001b[38;5;250m.-.    \u001b[0m Patchy light r…│ \u001b[38;5;226m _`/\"\"\u001b[38;5;240;1m.-.    \u001b[0m Moderate or he…│ \u001b[38;5;226m _`/\"\"\u001b[38;5;250m.-.    \u001b[0m Light rain sho…│\n",
            "│ \u001b[38;5;226m  ,\\_\u001b[38;5;250m(   ).  \u001b[0m \u001b[38;5;082m53\u001b[0m °F\u001b[0m          │ \u001b[38;5;226m  ,\\_\u001b[38;5;250m(   ).  \u001b[0m \u001b[38;5;082m+53\u001b[0m(\u001b[38;5;082m51\u001b[0m) °F\u001b[0m     │ \u001b[38;5;226m  ,\\_\u001b[38;5;240;1m(   ).  \u001b[0m \u001b[38;5;046m48\u001b[0m °F\u001b[0m          │ \u001b[38;5;226m  ,\\_\u001b[38;5;250m(   ).  \u001b[0m \u001b[38;5;047m+44\u001b[0m(\u001b[38;5;047m42\u001b[0m) °F\u001b[0m     │\n",
            "│ \u001b[38;5;226m   /\u001b[38;5;250m(___(__) \u001b[0m \u001b[1m↙\u001b[0m \u001b[38;5;082m1\u001b[0m mph\u001b[0m        │ \u001b[38;5;226m   /\u001b[38;5;250m(___(__) \u001b[0m \u001b[1m↓\u001b[0m \u001b[38;5;118m3\u001b[0m-\u001b[38;5;190m6\u001b[0m mph\u001b[0m      │ \u001b[38;5;226m   /\u001b[38;5;240;1m(___(__) \u001b[0m \u001b[1m↓\u001b[0m \u001b[38;5;118m2\u001b[0m-\u001b[38;5;154m5\u001b[0m mph\u001b[0m      │ \u001b[38;5;226m   /\u001b[38;5;250m(___(__) \u001b[0m \u001b[1m↗\u001b[0m \u001b[38;5;118m3\u001b[0m-\u001b[38;5;154m5\u001b[0m mph\u001b[0m      │\n",
            "│ \u001b[38;5;228;5m    ⚡\u001b[38;5;111;25m‘‘\u001b[38;5;228;5m⚡\u001b[38;5;111;25m‘‘ \u001b[0m 6 mi\u001b[0m           │ \u001b[38;5;228;5m    ⚡\u001b[38;5;111;25m‘‘\u001b[38;5;228;5m⚡\u001b[38;5;111;25m‘‘ \u001b[0m 6 mi\u001b[0m           │ \u001b[38;5;21;1m   ‚‘‚‘‚‘‚‘  \u001b[0m 4 mi\u001b[0m           │ \u001b[38;5;111m     ‘ ‘ ‘ ‘ \u001b[0m 6 mi\u001b[0m           │\n",
            "│ \u001b[38;5;111m    ‘ ‘ ‘ ‘  \u001b[0m 0.0 in | 100%\u001b[0m  │ \u001b[38;5;111m    ‘ ‘ ‘ ‘  \u001b[0m 0.0 in | 100%\u001b[0m  │ \u001b[38;5;21;1m   ‚’‚’‚’‚’  \u001b[0m 0.1 in | 100%\u001b[0m  │ \u001b[38;5;111m    ‘ ‘ ‘ ‘  \u001b[0m 0.1 in | 100%\u001b[0m  │\n",
            "└──────────────────────────────┴──────────────────────────────┴──────────────────────────────┴──────────────────────────────┘\n",
            "                                                       ┌─────────────┐                                                       \n",
            "┌──────────────────────────────┬───────────────────────┤  Wed 21 May ├───────────────────────┬──────────────────────────────┐\n",
            "│            Morning           │             Noon      └──────┬──────┘     Evening           │             Night            │\n",
            "├──────────────────────────────┼──────────────────────────────┼──────────────────────────────┼──────────────────────────────┤\n",
            "│ \u001b[38;5;250m     .-.     \u001b[0m Light drizzle  │ \u001b[38;5;250m     .-.     \u001b[0m Light rain     │ \u001b[38;5;226m _`/\"\"\u001b[38;5;250m.-.    \u001b[0m Patchy rain ne…│               Mist           │\n",
            "│ \u001b[38;5;250m    (   ).   \u001b[0m \u001b[38;5;047m42\u001b[0m °F\u001b[0m          │ \u001b[38;5;250m    (   ).   \u001b[0m \u001b[38;5;047m+42\u001b[0m(\u001b[38;5;048m41\u001b[0m) °F\u001b[0m     │ \u001b[38;5;226m  ,\\_\u001b[38;5;250m(   ).  \u001b[0m \u001b[38;5;047m44\u001b[0m °F\u001b[0m          │ \u001b[38;5;251m _ - _ - _ - \u001b[0m \u001b[38;5;048m39\u001b[0m °F\u001b[0m          │\n",
            "│ \u001b[38;5;250m   (___(__)  \u001b[0m \u001b[1m→\u001b[0m \u001b[38;5;118m2\u001b[0m-\u001b[38;5;118m3\u001b[0m mph\u001b[0m      │ \u001b[38;5;250m   (___(__)  \u001b[0m \u001b[1m→\u001b[0m \u001b[38;5;118m3\u001b[0m-\u001b[38;5;154m4\u001b[0m mph\u001b[0m      │ \u001b[38;5;226m   /\u001b[38;5;250m(___(__) \u001b[0m \u001b[1m↘\u001b[0m \u001b[38;5;118m2\u001b[0m-\u001b[38;5;118m3\u001b[0m mph\u001b[0m      │ \u001b[38;5;251m  _ - _ - _  \u001b[0m \u001b[1m→\u001b[0m \u001b[38;5;082m1\u001b[0m mph\u001b[0m        │\n",
            "│ \u001b[38;5;111m    ‘ ‘ ‘ ‘  \u001b[0m 1 mi\u001b[0m           │ \u001b[38;5;111m    ‘ ‘ ‘ ‘  \u001b[0m 5 mi\u001b[0m           │ \u001b[38;5;111m     ‘ ‘ ‘ ‘ \u001b[0m 6 mi\u001b[0m           │ \u001b[38;5;251m _ - _ - _ - \u001b[0m 1 mi\u001b[0m           │\n",
            "│ \u001b[38;5;111m   ‘ ‘ ‘ ‘   \u001b[0m 0.0 in | 100%\u001b[0m  │ \u001b[38;5;111m   ‘ ‘ ‘ ‘   \u001b[0m 0.1 in | 100%\u001b[0m  │ \u001b[38;5;111m    ‘ ‘ ‘ ‘  \u001b[0m 0.0 in | 50%\u001b[0m   │               0.0 in | 61%\u001b[0m   │\n",
            "└──────────────────────────────┴──────────────────────────────┴──────────────────────────────┴──────────────────────────────┘\n",
            "Location: Schweiz/Suisse/Svizzera/Svizra [46.7985624,8.2319736]\n",
            "\n",
            "Follow \u001b[46m\u001b[30m@igor_chubin\u001b[0m for wttr.in updates\n",
            "\n",
            "\n",
            "Hello! Welcome to Weather Wise. How can I help you?😊\n",
            "-----------------------------------------------------\n",
            "Please enter your choice (1 - 4):\n",
            "1. Check Current Weather & View Weather Forecast at Swiss\n",
            "2. Activities Suggestions at Swiss (Today, Tomorrow, Day After Tomorrow)\n",
            "3. Check Other Location \n",
            "4. Exit Program \n",
            "Enter your choice (1-4): 3\n",
            "\n",
            "Zizi, Please enter your new location: Denpasar\n",
            "🤖: Your new location is Denpasar\n",
            "You chose Choice 3\n",
            "\n",
            "Hello! Welcome to Weather Wise. How can I help you?😊\n",
            "-----------------------------------------------------\n",
            "Please enter your choice (1 - 4):\n",
            "1. Check Current Weather & View Weather Forecast at Denpasar\n",
            "2. Activities Suggestions at Denpasar (Today, Tomorrow, Day After Tomorrow)\n",
            "3. Check Other Location \n",
            "4. Exit Program \n",
            "Enter your choice (1-4): 1\n",
            "Weather report: Denpasar\n",
            "\n",
            "  \u001b[38;5;226m   \\  /\u001b[0m       Partly cloudy\n",
            "  \u001b[38;5;226m _ /\"\"\u001b[38;5;250m.-.    \u001b[0m \u001b[38;5;214m+82\u001b[0m(\u001b[38;5;202m93\u001b[0m) °F\u001b[0m     \n",
            "  \u001b[38;5;226m   \\_\u001b[38;5;250m(   ).  \u001b[0m \u001b[1m←\u001b[0m \u001b[38;5;214m13\u001b[0m mph\u001b[0m       \n",
            "  \u001b[38;5;226m   /\u001b[38;5;250m(___(__) \u001b[0m 6 mi\u001b[0m           \n",
            "                0.0 in\u001b[0m         \n",
            "                                                       ┌─────────────┐                                                       \n",
            "┌──────────────────────────────┬───────────────────────┤  Tue 20 May ├───────────────────────┬──────────────────────────────┐\n",
            "│            Morning           │             Noon      └──────┬──────┘     Evening           │             Night            │\n",
            "├──────────────────────────────┼──────────────────────────────┼──────────────────────────────┼──────────────────────────────┤\n",
            "│ \u001b[38;5;226m _`/\"\"\u001b[38;5;250m.-.    \u001b[0m Light rain sho…│ \u001b[38;5;226m _`/\"\"\u001b[38;5;250m.-.    \u001b[0m Light rain sho…│ \u001b[38;5;226m _`/\"\"\u001b[38;5;250m.-.    \u001b[0m Light rain sho…│ \u001b[38;5;226m _`/\"\"\u001b[38;5;250m.-.    \u001b[0m Light rain sho…│\n",
            "│ \u001b[38;5;226m  ,\\_\u001b[38;5;250m(   ).  \u001b[0m \u001b[38;5;220m+78\u001b[0m(\u001b[38;5;214m84\u001b[0m) °F\u001b[0m     │ \u001b[38;5;226m  ,\\_\u001b[38;5;250m(   ).  \u001b[0m \u001b[38;5;220m+78\u001b[0m(\u001b[38;5;214m86\u001b[0m) °F\u001b[0m     │ \u001b[38;5;226m  ,\\_\u001b[38;5;250m(   ).  \u001b[0m \u001b[38;5;220m+78\u001b[0m(\u001b[38;5;214m84\u001b[0m) °F\u001b[0m     │ \u001b[38;5;226m  ,\\_\u001b[38;5;250m(   ).  \u001b[0m \u001b[38;5;220m+78\u001b[0m(\u001b[38;5;214m84\u001b[0m) °F\u001b[0m     │\n",
            "│ \u001b[38;5;226m   /\u001b[38;5;250m(___(__) \u001b[0m \u001b[1m←\u001b[0m \u001b[38;5;214m12\u001b[0m-\u001b[38;5;208m16\u001b[0m mph\u001b[0m    │ \u001b[38;5;226m   /\u001b[38;5;250m(___(__) \u001b[0m \u001b[1m←\u001b[0m \u001b[38;5;220m11\u001b[0m-\u001b[38;5;202m18\u001b[0m mph\u001b[0m    │ \u001b[38;5;226m   /\u001b[38;5;250m(___(__) \u001b[0m \u001b[1m←\u001b[0m \u001b[38;5;220m11\u001b[0m-\u001b[38;5;208m16\u001b[0m mph\u001b[0m    │ \u001b[38;5;226m   /\u001b[38;5;250m(___(__) \u001b[0m \u001b[1m←\u001b[0m \u001b[38;5;220m10\u001b[0m-\u001b[38;5;208m14\u001b[0m mph\u001b[0m    │\n",
            "│ \u001b[38;5;111m     ‘ ‘ ‘ ‘ \u001b[0m 6 mi\u001b[0m           │ \u001b[38;5;111m     ‘ ‘ ‘ ‘ \u001b[0m 6 mi\u001b[0m           │ \u001b[38;5;111m     ‘ ‘ ‘ ‘ \u001b[0m 6 mi\u001b[0m           │ \u001b[38;5;111m     ‘ ‘ ‘ ‘ \u001b[0m 6 mi\u001b[0m           │\n",
            "│ \u001b[38;5;111m    ‘ ‘ ‘ ‘  \u001b[0m 0.0 in | 100%\u001b[0m  │ \u001b[38;5;111m    ‘ ‘ ‘ ‘  \u001b[0m 0.0 in | 100%\u001b[0m  │ \u001b[38;5;111m    ‘ ‘ ‘ ‘  \u001b[0m 0.0 in | 100%\u001b[0m  │ \u001b[38;5;111m    ‘ ‘ ‘ ‘  \u001b[0m 0.0 in | 100%\u001b[0m  │\n",
            "└──────────────────────────────┴──────────────────────────────┴──────────────────────────────┴──────────────────────────────┘\n",
            "                                                       ┌─────────────┐                                                       \n",
            "┌──────────────────────────────┬───────────────────────┤  Wed 21 May ├───────────────────────┬──────────────────────────────┐\n",
            "│            Morning           │             Noon      └──────┬──────┘     Evening           │             Night            │\n",
            "├──────────────────────────────┼──────────────────────────────┼──────────────────────────────┼──────────────────────────────┤\n",
            "│ \u001b[38;5;226m _`/\"\"\u001b[38;5;250m.-.    \u001b[0m Light rain sho…│ \u001b[38;5;226m _`/\"\"\u001b[38;5;250m.-.    \u001b[0m Light rain sho…│ \u001b[38;5;226m _`/\"\"\u001b[38;5;250m.-.    \u001b[0m Light rain sho…│ \u001b[38;5;226m _`/\"\"\u001b[38;5;250m.-.    \u001b[0m Light rain sho…│\n",
            "│ \u001b[38;5;226m  ,\\_\u001b[38;5;250m(   ).  \u001b[0m \u001b[38;5;220m+78\u001b[0m(\u001b[38;5;214m84\u001b[0m) °F\u001b[0m     │ \u001b[38;5;226m  ,\\_\u001b[38;5;250m(   ).  \u001b[0m \u001b[38;5;220m+78\u001b[0m(\u001b[38;5;214m86\u001b[0m) °F\u001b[0m     │ \u001b[38;5;226m  ,\\_\u001b[38;5;250m(   ).  \u001b[0m \u001b[38;5;220m+77\u001b[0m(\u001b[38;5;214m82\u001b[0m) °F\u001b[0m     │ \u001b[38;5;226m  ,\\_\u001b[38;5;250m(   ).  \u001b[0m \u001b[38;5;220m+77\u001b[0m(\u001b[38;5;214m82\u001b[0m) °F\u001b[0m     │\n",
            "│ \u001b[38;5;226m   /\u001b[38;5;250m(___(__) \u001b[0m \u001b[1m←\u001b[0m \u001b[38;5;214m13\u001b[0m-\u001b[38;5;202m18\u001b[0m mph\u001b[0m    │ \u001b[38;5;226m   /\u001b[38;5;250m(___(__) \u001b[0m \u001b[1m←\u001b[0m \u001b[38;5;220m11\u001b[0m-\u001b[38;5;208m14\u001b[0m mph\u001b[0m    │ \u001b[38;5;226m   /\u001b[38;5;250m(___(__) \u001b[0m \u001b[1m↖\u001b[0m \u001b[38;5;226m9\u001b[0m-\u001b[38;5;214m13\u001b[0m mph\u001b[0m     │ \u001b[38;5;226m   /\u001b[38;5;250m(___(__) \u001b[0m \u001b[1m←\u001b[0m \u001b[38;5;190m6\u001b[0m-\u001b[38;5;220m9\u001b[0m mph\u001b[0m      │\n",
            "│ \u001b[38;5;111m     ‘ ‘ ‘ ‘ \u001b[0m 6 mi\u001b[0m           │ \u001b[38;5;111m     ‘ ‘ ‘ ‘ \u001b[0m 6 mi\u001b[0m           │ \u001b[38;5;111m     ‘ ‘ ‘ ‘ \u001b[0m 6 mi\u001b[0m           │ \u001b[38;5;111m     ‘ ‘ ‘ ‘ \u001b[0m 6 mi\u001b[0m           │\n",
            "│ \u001b[38;5;111m    ‘ ‘ ‘ ‘  \u001b[0m 0.0 in | 100%\u001b[0m  │ \u001b[38;5;111m    ‘ ‘ ‘ ‘  \u001b[0m 0.0 in | 100%\u001b[0m  │ \u001b[38;5;111m    ‘ ‘ ‘ ‘  \u001b[0m 0.1 in | 100%\u001b[0m  │ \u001b[38;5;111m    ‘ ‘ ‘ ‘  \u001b[0m 0.1 in | 100%\u001b[0m  │\n",
            "└──────────────────────────────┴──────────────────────────────┴──────────────────────────────┴──────────────────────────────┘\n",
            "                                                       ┌─────────────┐                                                       \n",
            "┌──────────────────────────────┬───────────────────────┤  Thu 22 May ├───────────────────────┬──────────────────────────────┐\n",
            "│            Morning           │             Noon      └──────┬──────┘     Evening           │             Night            │\n",
            "├──────────────────────────────┼──────────────────────────────┼──────────────────────────────┼──────────────────────────────┤\n",
            "│ \u001b[38;5;226m _`/\"\"\u001b[38;5;250m.-.    \u001b[0m Light rain sho…│ \u001b[38;5;226m _`/\"\"\u001b[38;5;250m.-.    \u001b[0m Light rain sho…│ \u001b[38;5;226m _`/\"\"\u001b[38;5;240;1m.-.    \u001b[0m Moderate or he…│ \u001b[38;5;226m _`/\"\"\u001b[38;5;250m.-.    \u001b[0m Patchy rain ne…│\n",
            "│ \u001b[38;5;226m  ,\\_\u001b[38;5;250m(   ).  \u001b[0m \u001b[38;5;220m+78\u001b[0m(\u001b[38;5;214m86\u001b[0m) °F\u001b[0m     │ \u001b[38;5;226m  ,\\_\u001b[38;5;250m(   ).  \u001b[0m \u001b[38;5;220m+80\u001b[0m(\u001b[38;5;208m87\u001b[0m) °F\u001b[0m     │ \u001b[38;5;226m  ,\\_\u001b[38;5;240;1m(   ).  \u001b[0m \u001b[38;5;220m+78\u001b[0m(\u001b[38;5;214m84\u001b[0m) °F\u001b[0m     │ \u001b[38;5;226m  ,\\_\u001b[38;5;250m(   ).  \u001b[0m \u001b[38;5;220m+78\u001b[0m(\u001b[38;5;214m82\u001b[0m) °F\u001b[0m     │\n",
            "│ \u001b[38;5;226m   /\u001b[38;5;250m(___(__) \u001b[0m \u001b[1m←\u001b[0m \u001b[38;5;226m8\u001b[0m-\u001b[38;5;220m11\u001b[0m mph\u001b[0m     │ \u001b[38;5;226m   /\u001b[38;5;250m(___(__) \u001b[0m \u001b[1m←\u001b[0m \u001b[38;5;220m11\u001b[0m-\u001b[38;5;196m19\u001b[0m mph\u001b[0m    │ \u001b[38;5;226m   /\u001b[38;5;240;1m(___(__) \u001b[0m \u001b[1m←\u001b[0m \u001b[38;5;220m9\u001b[0m-\u001b[38;5;202m18\u001b[0m mph\u001b[0m     │ \u001b[38;5;226m   /\u001b[38;5;250m(___(__) \u001b[0m \u001b[1m←\u001b[0m \u001b[38;5;190m6\u001b[0m-\u001b[38;5;214m12\u001b[0m mph\u001b[0m     │\n",
            "│ \u001b[38;5;111m     ‘ ‘ ‘ ‘ \u001b[0m 6 mi\u001b[0m           │ \u001b[38;5;111m     ‘ ‘ ‘ ‘ \u001b[0m 6 mi\u001b[0m           │ \u001b[38;5;21;1m   ‚‘‚‘‚‘‚‘  \u001b[0m 4 mi\u001b[0m           │ \u001b[38;5;111m     ‘ ‘ ‘ ‘ \u001b[0m 6 mi\u001b[0m           │\n",
            "│ \u001b[38;5;111m    ‘ ‘ ‘ ‘  \u001b[0m 0.1 in | 100%\u001b[0m  │ \u001b[38;5;111m    ‘ ‘ ‘ ‘  \u001b[0m 0.0 in | 100%\u001b[0m  │ \u001b[38;5;21;1m   ‚’‚’‚’‚’  \u001b[0m 0.1 in | 100%\u001b[0m  │ \u001b[38;5;111m    ‘ ‘ ‘ ‘  \u001b[0m 0.0 in | 100%\u001b[0m  │\n",
            "└──────────────────────────────┴──────────────────────────────┴──────────────────────────────┴──────────────────────────────┘\n",
            "Location: Denpasar, North Denpasar, Kota Denpasar, Bali, Indonesia [-8.6524973,115.2191175]\n",
            "\n",
            "Follow \u001b[46m\u001b[30m@igor_chubin\u001b[0m for wttr.in updates\n",
            "\n",
            "\n",
            "Hello! Welcome to Weather Wise. How can I help you?😊\n",
            "-----------------------------------------------------\n",
            "Please enter your choice (1 - 4):\n",
            "1. Check Current Weather & View Weather Forecast at Denpasar\n",
            "2. Activities Suggestions at Denpasar (Today, Tomorrow, Day After Tomorrow)\n",
            "3. Check Other Location \n",
            "4. Exit Program \n",
            "Enter your choice (1-4): 4\n",
            "Thankyou! Have a nice day Zizi 🌸\n"
          ]
        }
      ],
      "source": [
        "# Tie everything together here\n",
        "if __name__ == \"__main__\":\n",
        "    title = \"Weather Wise\"\n",
        "    blue_bold = \"\\033[1;94m\"  # 1 for bold, 94 for light blue\n",
        "    color = \"\\033[0m\"\n",
        "\n",
        "    print(\"=\" * 53)\n",
        "    print(\"\" + blue_bold + title.center(51) + color + \"\")\n",
        "    print(\"=\" * 53)\n",
        "\n",
        "    main()"
      ]
    },
    {
      "cell_type": "markdown",
      "id": "fde44479",
      "metadata": {
        "id": "fde44479"
      },
      "source": [
        "## 🧪 Testing and Examples"
      ]
    },
    {
      "cell_type": "code",
      "execution_count": null,
      "id": "4e573901",
      "metadata": {
        "id": "4e573901"
      },
      "outputs": [],
      "source": [
        "# Include sample input/output for each function"
      ]
    },
    {
      "cell_type": "markdown",
      "id": "d2885880",
      "metadata": {
        "id": "d2885880"
      },
      "source": [
        "## 🗂️ AI Prompting Log (Optional)\n",
        "Add markdown cells here summarising prompts used or link to AI conversations in the `ai-conversations/` folder."
      ]
    }
  ],
  "metadata": {
    "language_info": {
      "name": "python"
    },
    "colab": {
      "provenance": [],
      "include_colab_link": true
    },
    "kernelspec": {
      "name": "python3",
      "display_name": "Python 3"
    }
  },
  "nbformat": 4,
  "nbformat_minor": 5
}