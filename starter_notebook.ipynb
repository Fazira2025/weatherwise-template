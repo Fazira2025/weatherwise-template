{
  "cells": [
    {
      "cell_type": "markdown",
      "metadata": {
        "id": "view-in-github",
        "colab_type": "text"
      },
      "source": [
        "<a href=\"https://colab.research.google.com/github/Fazira2025/weatherwise-template/blob/main/starter_notebook.ipynb\" target=\"_parent\"><img src=\"https://colab.research.google.com/assets/colab-badge.svg\" alt=\"Open In Colab\"/></a>"
      ]
    },
    {
      "cell_type": "markdown",
      "id": "72e78a05",
      "metadata": {
        "id": "72e78a05"
      },
      "source": [
        "# 🌦️ WeatherWise – Starter Notebook\n",
        "\n",
        "Welcome to your **WeatherWise** project notebook! This scaffold is designed to help you build your weather advisor app using Python, visualisations, and AI-enhanced development.\n",
        "\n",
        "---\n",
        "\n",
        "\n"
      ]
    },
    {
      "cell_type": "code",
      "execution_count": null,
      "id": "70c3f3f1",
      "metadata": {
        "id": "70c3f3f1"
      },
      "outputs": [],
      "source": [
        "# 🧪 Optional packages — uncomment if needed in Colab or JupyterHub\n",
        "!pip install request"
      ]
    },
    {
      "cell_type": "markdown",
      "id": "59ae7543",
      "metadata": {
        "id": "59ae7543"
      },
      "source": [
        "## 📦 Setup and Configuration\n",
        "Import required packages and setup environment."
      ]
    },
    {
      "cell_type": "code",
      "execution_count": 7,
      "id": "f1dd051e",
      "metadata": {
        "id": "f1dd051e"
      },
      "outputs": [],
      "source": [
        "import requests\n",
        "import json\n",
        "import re\n",
        "from datetime import datetime, timedelta"
      ]
    },
    {
      "cell_type": "markdown",
      "id": "f736ade3",
      "metadata": {
        "id": "f736ade3"
      },
      "source": [
        "## 🌤️ Weather Data Functions"
      ]
    },
    {
      "cell_type": "code",
      "execution_count": 8,
      "id": "7a2c7cd0",
      "metadata": {
        "id": "7a2c7cd0"
      },
      "outputs": [],
      "source": [
        "# Define get_weather_data() function here\n",
        "def get_weather_data(location, format_type=\"text\"):\n",
        "    try:\n",
        "        # Set URL based on format type\n",
        "        if format_type.lower() == \"json\":\n",
        "            url = f'https://wttr.in/{location}?format=j1'\n",
        "        else:  # default to text\n",
        "            url = f'https://wttr.in/{location}'\n",
        "\n",
        "        response = requests.get(url)\n",
        "        response.raise_for_status()\n",
        "\n",
        "        if format_type.lower() == \"json\":\n",
        "            # Parse and return the JSON response\n",
        "            return response.json()\n",
        "        else:\n",
        "            # Print the text response as you were doing before\n",
        "            print(response.text)\n",
        "            return None\n",
        "\n",
        "    except requests.exceptions.HTTPError as errh:\n",
        "        print(f'HTTP Error: {errh}')\n",
        "    except requests.exceptions.ConnectionError as errc:\n",
        "        print(f'Connection Error: {errc}')\n",
        "    except requests.exceptions.Timeout as errt:\n",
        "        print(f'Timeout Error: {errt}')\n",
        "    except requests.exceptions.RequestException as err:\n",
        "        print(f'Error: {err}')\n",
        "    except json.JSONDecodeError as jerr:\n",
        "        if format_type.lower() == \"json\":\n",
        "            print(f'JSON Decode Error: {jerr}')\n",
        "\n",
        "    return None"
      ]
    },
    {
      "cell_type": "markdown",
      "id": "8a744fdc",
      "metadata": {
        "id": "8a744fdc"
      },
      "source": [
        "## 📊 Visualisation Functions"
      ]
    },
    {
      "cell_type": "code",
      "execution_count": 9,
      "id": "9dc3bf85",
      "metadata": {
        "id": "9dc3bf85"
      },
      "outputs": [],
      "source": [
        "# Define create_temperature_visualisation() and create_precipitation_visualisation() here\n",
        "#create weather emojis-------------------------------------------------------\n",
        "\n",
        "def get_weather_emoji(weather_description):\n",
        "    \"\"\"Return an emoji based on the weather description\"\"\"\n",
        "    weather_lower = weather_description.lower()\n",
        "\n",
        "    # Define specific keywords for each weather condition #list_dictionary\n",
        "    rain_keywords = ['rain', 'drizzle', 'shower', 'thundery outbreaks', 'downpour', 'wet']\n",
        "    snow_keywords = ['snow', 'blizzard', 'sleet', 'ice', 'hail', 'flurry']\n",
        "    cloud_keywords = ['cloud', 'overcast', 'mist', 'fog', 'haze', 'partly cloudy', 'scattered clouds']\n",
        "    sun_keywords = ['sunny', 'clear', 'fair', 'hot', 'bright', 'clear skies', 'clear weather']\n",
        "    wind_keywords = ['wind', 'gale', 'storm', 'breeze', 'gust']\n",
        "\n",
        "    # Rain conditions\n",
        "    if any(word in weather_lower for word in rain_keywords):\n",
        "        if 'thunder' in weather_lower or 'storm' in weather_lower or 'thundery outbreaks' in weather_lower:\n",
        "            return '⛈️'  # Thunderstorm\n",
        "        elif 'light' in weather_lower or 'patchy' in weather_lower:\n",
        "            return '🌦️'  # Sun behind rain cloud\n",
        "        else:\n",
        "            return '🌧️'  # Rain cloud\n",
        "\n",
        "    # Snow conditions\n",
        "    elif any(word in weather_lower for word in snow_keywords):\n",
        "        if 'light' in weather_lower or 'patchy' in weather_lower:\n",
        "            return '🌨️'  # Snow cloud\n",
        "        else:\n",
        "            return '❄️'  # Snowflake\n",
        "\n",
        "    # Cloud conditions\n",
        "    elif any(word in weather_lower for word in cloud_keywords):\n",
        "        if 'fog' in weather_lower or 'mist' in weather_lower:\n",
        "            return '🌫️'  # Fog\n",
        "        elif 'overcast' in weather_lower:\n",
        "            return '☁️'  # Cloudy weather\n",
        "        elif 'partly' in weather_lower or 'scattered' in weather_lower:\n",
        "            return '⛅'  # Sun behind cloud\n",
        "        else:\n",
        "            return '☁️'  # Cloud\n",
        "\n",
        "    # Clear conditions (sunny/fair weather)\n",
        "    elif any(word in weather_lower for word in sun_keywords):\n",
        "        return '☀️'  # Sun\n",
        "\n",
        "    # Wind conditions\n",
        "    elif any(word in weather_lower for word in wind_keywords):\n",
        "        return '💨'  # Wind blowing\n",
        "\n",
        "    # Default (unknown or undefined weather)\n",
        "    else:\n",
        "        return '🌡️'  # Thermometer (default)\n",
        "\n",
        "\n",
        "#create temperature visualisation using JSON--------------------------------\n",
        "\n",
        "def create_temperature_visualisation(location, target_date, return_data=False):\n",
        "    weather_data = get_weather_data(location, format_type=\"json\")\n",
        "    if not weather_data:\n",
        "        print(\"Unable to get weather data\")\n",
        "        return None if return_data else None\n",
        "\n",
        "    target_date_str = target_date.strftime(\"%Y-%m-%d\")\n",
        "\n",
        "    matched_day = None\n",
        "    for day in weather_data['weather']:\n",
        "        if day['date'] == target_date_str:\n",
        "            matched_day = day\n",
        "            break\n",
        "\n",
        "    if matched_day:\n",
        "        date_obj = datetime.strptime(matched_day['date'], \"%Y-%m-%d\")\n",
        "        formatted_date = date_obj.strftime(\"%A, %d %B\")\n",
        "\n",
        "        min_temp = int(matched_day['mintempC'])\n",
        "        max_temp = int(matched_day['maxtempC'])\n",
        "        avg_temp = int(matched_day['avgtempC'])\n",
        "        weather_desc = matched_day['hourly'][4]['weatherDesc'][0]['value']\n",
        "        weather_emoji = get_weather_emoji(weather_desc)\n",
        "\n",
        "        if not return_data:\n",
        "            print(\"\\n=== WEATHER CONDITION ===\")\n",
        "            print(f\"Date: {formatted_date}\")\n",
        "            print(f\"Weather: {weather_emoji} {weather_desc}\")\n",
        "            print(f\"Minimum Temperature: {min_temp}°C\")\n",
        "            print(f\"Maximum Temperature: {max_temp}°C\")\n",
        "            print(f\"Average Temperature: {avg_temp:.1f}°C\")\n",
        "            print(\"\\n\" + \"=\" * 50)\n",
        "        else:\n",
        "            return {\n",
        "                \"date\": formatted_date,\n",
        "                \"weather\": f\"{weather_emoji} {weather_desc}\",\n",
        "                \"min_temp\": min_temp,\n",
        "                \"max_temp\": max_temp,\n",
        "                \"avg_temp\": avg_temp\n",
        "            }\n",
        "    else:\n",
        "        if not return_data:\n",
        "            print(f\"No weather forecast available for {target_date.strftime('%A, %d %B')}\")\n",
        "        return None if return_data else None"
      ]
    },
    {
      "cell_type": "code",
      "source": [
        "# Define create_precipitation_visualisation here\n",
        "def create_precipitation_visualisation(weather_data, output_type='display'):\n",
        "    \"\"\"\n",
        "    Create visualisation of precipitation data.\n",
        "\n",
        "    Args:\n",
        "        weather_data (dict): The processed weather data\n",
        "        output_type (str): Either 'display' to show in notebook or 'figure' to return the figure\n",
        "\n",
        "    Returns:\n",
        "        If output_type is 'figure', returns the matplotlib figure object\n",
        "        Otherwise, displays the visualisation in the notebook\n",
        "    \"\"\"\n",
        "    pass"
      ],
      "metadata": {
        "id": "HpOlQylYG5Ho"
      },
      "id": "HpOlQylYG5Ho",
      "execution_count": 10,
      "outputs": []
    },
    {
      "cell_type": "markdown",
      "id": "9f95d160",
      "metadata": {
        "id": "9f95d160"
      },
      "source": [
        "## 🤖 Natural Language Processing"
      ]
    },
    {
      "cell_type": "code",
      "execution_count": 12,
      "id": "bcc5833e",
      "metadata": {
        "id": "bcc5833e"
      },
      "outputs": [],
      "source": [
        "# Define parse_weather_question() and generate_weather_response() here\n",
        "def parse_weather_question(question, location):\n",
        "    # Definisikan pola regex untuk mendeteksi waktu\n",
        "    time_pattern = r\"(today|tomorrow|after[-\\s]?tomorrow|day[-\\s]?after[-\\s]?tomorrow)\"\n",
        "\n",
        "    # Daftar aktivitas outdoor dan indoor\n",
        "    outdoor_activities = r\"(run|swim|sports|tennis|cycling|hiking|jogging|fishing|camping|skiing|sailing|kayaking|gardening)\"\n",
        "    indoor_activities = r\"(cooking|reading|studying|watching movies|baking|painting|knitting|gaming)\"\n",
        "\n",
        "    # Cari waktu dalam pertanyaan\n",
        "    time_match = re.search(time_pattern, question, re.IGNORECASE)\n",
        "\n",
        "    # Cari semua aktivitas outdoor\n",
        "    outdoor_matches = re.findall(outdoor_activities, question, re.IGNORECASE)\n",
        "    # Cari semua aktivitas indoor\n",
        "    indoor_matches = re.findall(indoor_activities, question, re.IGNORECASE)\n",
        "\n",
        "    # Default waktu ke \"today\" jika tidak ditemukan\n",
        "    time = \"today\"\n",
        "    activities = []  # Menyimpan aktivitas yang ditemukan\n",
        "    activity_types = []  # Menyimpan jenis aktivitas (indoor atau outdoor)\n",
        "\n",
        "    if time_match:\n",
        "        time = time_match.group(1).lower()  # Ambil waktu (today, tomorrow, after-tomorrow)\n",
        "\n",
        "    # Tambahkan aktivitas outdoor yang ditemukan\n",
        "    if outdoor_matches:\n",
        "        activities.extend(outdoor_matches)\n",
        "        activity_types.extend([\"Outdoor\"] * len(outdoor_matches))\n",
        "\n",
        "    # Tambahkan aktivitas indoor yang ditemukan\n",
        "    if indoor_matches:\n",
        "        activities.extend(indoor_matches)\n",
        "        activity_types.extend([\"Indoor\"] * len(indoor_matches))\n",
        "\n",
        "    # Tentukan tanggal berdasarkan waktu yang disebutkan\n",
        "    target_date = datetime.now()\n",
        "\n",
        "    if time == \"today\":\n",
        "        # Just use the current date without modifying it.\n",
        "        target_date = target_date.replace(hour=0, minute=0, second=0, microsecond=0)  # Set to midnight of today\n",
        "    elif time == \"tomorrow\":\n",
        "        target_date += timedelta(days=1)\n",
        "        target_date = target_date.replace(hour=0, minute=0, second=0, microsecond=0)  # Set to midnight of tomorrow\n",
        "    elif time in [\"after tomorrow\", \"day after tomorrow\"]:\n",
        "        target_date += timedelta(days=2)\n",
        "        target_date = target_date.replace(hour=0, minute=0, second=0, microsecond=0)  # Set to midnight of the day after tomorrow\n",
        "\n",
        "    # Panggil fungsi untuk menampilkan cuaca berdasarkan lokasi dan tanggal\n",
        "    if location:\n",
        "        weather = create_temperature_visualisation(location, target_date, return_data=True)\n",
        "        if not weather:\n",
        "            print(\"Cuaca tidak tersedia untuk tanggal tersebut.\")\n",
        "            return\n",
        "\n",
        "        if activities:\n",
        "            for activity, activity_type in zip(activities, activity_types):\n",
        "                response = generate_weather_response(\n",
        "                    location=location,\n",
        "                    date_str=target_date.strftime('%A, %d %B %Y'),\n",
        "                    activity=activity,\n",
        "                    activity_type=activity_type,\n",
        "                    weather_desc=weather[\"weather\"],\n",
        "                    min_temp=weather[\"min_temp\"],\n",
        "                    max_temp=weather[\"max_temp\"],\n",
        "                    avg_temp=weather[\"avg_temp\"]\n",
        "                )\n",
        "                print(response)\n",
        "        else:\n",
        "            print(\"No specific activity mentioned.\")\n",
        "    else:\n",
        "        print(\"Please provide a valid location.\")\n",
        "\n",
        "\n",
        "  #get_weather_response----------------------------------------------------------\n",
        "def generate_weather_response(location, date_str, activity, activity_type, weather_desc, min_temp, max_temp, avg_temp):\n",
        "    desc = weather_desc.lower()\n",
        "    activity_suggestion = \"\"\n",
        "\n",
        "    bad_weather = any(keyword in desc for keyword in ['rain', 'thunder', 'fog', 'mist', 'shower','snow'])\n",
        "\n",
        "    if activity_type.lower() == \"outdoor\":\n",
        "        if bad_weather or avg_temp < 15:\n",
        "            activity_suggestion = f\"The weather ({weather_desc}) and quite cold outside ({avg_temp}°C) is not suitable for {activity_type.capitalize()} - {activity.capitalize()}. Maybe you can try some indoor activities!\"\n",
        "        elif 15 <= avg_temp <= 30:\n",
        "            activity_suggestion = f\"It's warm outside! Great time for {activity_type.capitalize()} - {activity.capitalize()}.\"\n",
        "        else:\n",
        "            activity_suggestion = \"It's very hot outside.\"\n",
        "    else:\n",
        "        # For indoor activities, you can customize suggestions as needed\n",
        "        activity_suggestion = f\"It's a perfect day for indoor activities like {activity.capitalize()}.\"\n",
        "\n",
        "    response = f\"\"\"\n",
        "🤖 Here's your activity suggestion:\n",
        "\n",
        "📍 Location: {location}\n",
        "📅 Date: {date_str}\n",
        "🏃 Activity: {activity.capitalize()} ({activity_type.capitalize()})\n",
        "\n",
        "🌤️ Weather: {weather_desc}\n",
        "🌡️ Min Temp: {min_temp}°C | Max Temp: {max_temp}°C | Avg Temp: {avg_temp}°C\n",
        "\n",
        "✅ Suggestion:\n",
        "{activity_suggestion}\n",
        "\"\"\"\n",
        "    return response.strip()"
      ]
    },
    {
      "cell_type": "markdown",
      "id": "0d85225e",
      "metadata": {
        "id": "0d85225e"
      },
      "source": [
        "## 🧭 User Interface"
      ]
    },
    {
      "cell_type": "code",
      "execution_count": 13,
      "id": "fa6cb0f6",
      "metadata": {
        "id": "fa6cb0f6"
      },
      "outputs": [],
      "source": [
        "# Define menu functions using pyinputplus or ipywidgets here\n",
        "def main():\n",
        "  name = input('🤖: Hi! Please enter your name: ')\n",
        "  location = input(f'🤖: Which location would you like to check, {name}? ')\n",
        "  while True:\n",
        "        print('\\nHello! Welcome to Weather Wise. How can I help you?😊')\n",
        "        print(\"-\" * 53)\n",
        "        print('Please enter your choice (1 - 4):')\n",
        "        print(f'1. Check Current Weather & View Weather Forecast at {location}')\n",
        "        print(f'2. Activities Suggestions at {location} (Today, Tomorrow, Day After Tomorrow)')\n",
        "        print('3. Check Other Location ')\n",
        "        print('4. Exit Program ')\n",
        "\n",
        "        choice = input('Enter your choice (1-4): ')\n",
        "\n",
        "        if choice == \"1\":\n",
        "            get_weather_data(location)\n",
        "        elif choice == \"2\":\n",
        "            question = input(f'\\n🤖: Hi! What activities would you like to do in {location}, and when (today, tomorrow, after-tomorrow): ')\n",
        "            parse_weather_question(question, location)\n",
        "        elif choice == \"3\":\n",
        "            print('')\n",
        "            location = input(f'{name}, Please enter your new location: ')\n",
        "            print(f'🤖: Your new location is {location}')\n",
        "        elif choice == \"4\":\n",
        "            print(f'Thankyou! Have a nice day {name} 🌸')\n",
        "            break\n",
        "        else:\n",
        "            print(\"\\033[1;31mInvalid choice. Please type 1-4 as a number!\\033[0m\") #error_handling"
      ]
    },
    {
      "cell_type": "markdown",
      "id": "d643a53c",
      "metadata": {
        "id": "d643a53c"
      },
      "source": [
        "## 🧩 Main Application Logic"
      ]
    },
    {
      "cell_type": "code",
      "execution_count": 14,
      "id": "a9e2e805",
      "metadata": {
        "id": "a9e2e805",
        "colab": {
          "base_uri": "https://localhost:8080/"
        },
        "outputId": "53f28361-0db5-43e3-9038-f44057a45331"
      },
      "outputs": [
        {
          "output_type": "stream",
          "name": "stdout",
          "text": [
            "=====================================================\n",
            "\u001b[1;94m                    Weather Wise                   \u001b[0m\n",
            "=====================================================\n",
            "🤖: Hi! Please enter your name: Zizi\n",
            "🤖: Which location would you like to check, Zizi? Perth\n",
            "\n",
            "Hello! Welcome to Weather Wise. How can I help you?😊\n",
            "-----------------------------------------------------\n",
            "Please enter your choice (1 - 4):\n",
            "1. Check Current Weather & View Weather Forecast at Perth\n",
            "2. Activities Suggestions at Perth (Today, Tomorrow, Day After Tomorrow)\n",
            "3. Check Other Location \n",
            "4. Exit Program \n",
            "Enter your choice (1-4): 1\n",
            "Weather report: Perth\n",
            "\n",
            "  \u001b[38;5;226m    \\   /    \u001b[0m Clear\n",
            "  \u001b[38;5;226m     .-.     \u001b[0m \u001b[38;5;118m+55\u001b[0m(\u001b[38;5;082m53\u001b[0m) °F\u001b[0m     \n",
            "  \u001b[38;5;226m  ― (   ) ―  \u001b[0m \u001b[1m↖\u001b[0m \u001b[38;5;220m11\u001b[0m mph\u001b[0m       \n",
            "  \u001b[38;5;226m     `-’     \u001b[0m 6 mi\u001b[0m           \n",
            "  \u001b[38;5;226m    /   \\    \u001b[0m 0.0 in\u001b[0m         \n",
            "                                                       ┌─────────────┐                                                       \n",
            "┌──────────────────────────────┬───────────────────────┤  Mon 19 May ├───────────────────────┬──────────────────────────────┐\n",
            "│            Morning           │             Noon      └──────┬──────┘     Evening           │             Night            │\n",
            "├──────────────────────────────┼──────────────────────────────┼──────────────────────────────┼──────────────────────────────┤\n",
            "│ \u001b[38;5;226m    \\   /    \u001b[0m Sunny          │ \u001b[38;5;226m    \\   /    \u001b[0m Sunny          │ \u001b[38;5;226m _`/\"\"\u001b[38;5;250m.-.    \u001b[0m Patchy rain ne…│ \u001b[38;5;226m    \\   /    \u001b[0m Clear          │\n",
            "│ \u001b[38;5;226m     .-.     \u001b[0m \u001b[38;5;154m64\u001b[0m °F\u001b[0m          │ \u001b[38;5;226m     .-.     \u001b[0m \u001b[38;5;226m71\u001b[0m °F\u001b[0m          │ \u001b[38;5;226m  ,\\_\u001b[38;5;250m(   ).  \u001b[0m \u001b[38;5;190m66\u001b[0m °F\u001b[0m          │ \u001b[38;5;226m     .-.     \u001b[0m \u001b[38;5;154m60\u001b[0m °F\u001b[0m          │\n",
            "│ \u001b[38;5;226m  ― (   ) ―  \u001b[0m \u001b[1m↓\u001b[0m \u001b[38;5;190m7\u001b[0m-\u001b[38;5;220m9\u001b[0m mph\u001b[0m      │ \u001b[38;5;226m  ― (   ) ―  \u001b[0m \u001b[1m→\u001b[0m \u001b[38;5;190m7\u001b[0m-\u001b[38;5;226m8\u001b[0m mph\u001b[0m      │ \u001b[38;5;226m   /\u001b[38;5;250m(___(__) \u001b[0m \u001b[1m↑\u001b[0m \u001b[38;5;208m16\u001b[0m-\u001b[38;5;196m21\u001b[0m mph\u001b[0m    │ \u001b[38;5;226m  ― (   ) ―  \u001b[0m \u001b[1m↖\u001b[0m \u001b[38;5;214m13\u001b[0m-\u001b[38;5;202m17\u001b[0m mph\u001b[0m    │\n",
            "│ \u001b[38;5;226m     `-’     \u001b[0m 6 mi\u001b[0m           │ \u001b[38;5;226m     `-’     \u001b[0m 6 mi\u001b[0m           │ \u001b[38;5;111m     ‘ ‘ ‘ ‘ \u001b[0m 6 mi\u001b[0m           │ \u001b[38;5;226m     `-’     \u001b[0m 6 mi\u001b[0m           │\n",
            "│ \u001b[38;5;226m    /   \\    \u001b[0m 0.0 in | 0%\u001b[0m    │ \u001b[38;5;226m    /   \\    \u001b[0m 0.0 in | 0%\u001b[0m    │ \u001b[38;5;111m    ‘ ‘ ‘ ‘  \u001b[0m 0.0 in | 86%\u001b[0m   │ \u001b[38;5;226m    /   \\    \u001b[0m 0.0 in | 0%\u001b[0m    │\n",
            "└──────────────────────────────┴──────────────────────────────┴──────────────────────────────┴──────────────────────────────┘\n",
            "                                                       ┌─────────────┐                                                       \n",
            "┌──────────────────────────────┬───────────────────────┤  Tue 20 May ├───────────────────────┬──────────────────────────────┐\n",
            "│            Morning           │             Noon      └──────┬──────┘     Evening           │             Night            │\n",
            "├──────────────────────────────┼──────────────────────────────┼──────────────────────────────┼──────────────────────────────┤\n",
            "│ \u001b[38;5;226m    \\   /    \u001b[0m Sunny          │ \u001b[38;5;226m    \\   /    \u001b[0m Sunny          │ \u001b[38;5;226m    \\   /    \u001b[0m Clear          │ \u001b[38;5;226m    \\   /    \u001b[0m Clear          │\n",
            "│ \u001b[38;5;226m     .-.     \u001b[0m \u001b[38;5;118m+59\u001b[0m(\u001b[38;5;118m55\u001b[0m) °F\u001b[0m     │ \u001b[38;5;226m     .-.     \u001b[0m \u001b[38;5;190m68\u001b[0m °F\u001b[0m          │ \u001b[38;5;226m     .-.     \u001b[0m \u001b[38;5;190m66\u001b[0m °F\u001b[0m          │ \u001b[38;5;226m     .-.     \u001b[0m \u001b[38;5;154m64\u001b[0m °F\u001b[0m          │\n",
            "│ \u001b[38;5;226m  ― (   ) ―  \u001b[0m \u001b[1m←\u001b[0m \u001b[38;5;220m10\u001b[0m-\u001b[38;5;214m13\u001b[0m mph\u001b[0m    │ \u001b[38;5;226m  ― (   ) ―  \u001b[0m \u001b[1m←\u001b[0m \u001b[38;5;190m7\u001b[0m-\u001b[38;5;226m8\u001b[0m mph\u001b[0m      │ \u001b[38;5;226m  ― (   ) ―  \u001b[0m \u001b[1m↖\u001b[0m \u001b[38;5;226m9\u001b[0m-\u001b[38;5;208m16\u001b[0m mph\u001b[0m     │ \u001b[38;5;226m  ― (   ) ―  \u001b[0m \u001b[1m←\u001b[0m \u001b[38;5;226m8\u001b[0m-\u001b[38;5;208m15\u001b[0m mph\u001b[0m     │\n",
            "│ \u001b[38;5;226m     `-’     \u001b[0m 6 mi\u001b[0m           │ \u001b[38;5;226m     `-’     \u001b[0m 6 mi\u001b[0m           │ \u001b[38;5;226m     `-’     \u001b[0m 6 mi\u001b[0m           │ \u001b[38;5;226m     `-’     \u001b[0m 6 mi\u001b[0m           │\n",
            "│ \u001b[38;5;226m    /   \\    \u001b[0m 0.0 in | 0%\u001b[0m    │ \u001b[38;5;226m    /   \\    \u001b[0m 0.0 in | 0%\u001b[0m    │ \u001b[38;5;226m    /   \\    \u001b[0m 0.0 in | 0%\u001b[0m    │ \u001b[38;5;226m    /   \\    \u001b[0m 0.0 in | 0%\u001b[0m    │\n",
            "└──────────────────────────────┴──────────────────────────────┴──────────────────────────────┴──────────────────────────────┘\n",
            "                                                       ┌─────────────┐                                                       \n",
            "┌──────────────────────────────┬───────────────────────┤  Wed 21 May ├───────────────────────┬──────────────────────────────┐\n",
            "│            Morning           │             Noon      └──────┬──────┘     Evening           │             Night            │\n",
            "├──────────────────────────────┼──────────────────────────────┼──────────────────────────────┼──────────────────────────────┤\n",
            "│ \u001b[38;5;226m    \\   /    \u001b[0m Sunny          │ \u001b[38;5;226m    \\   /    \u001b[0m Sunny          │ \u001b[38;5;226m    \\   /    \u001b[0m Clear          │ \u001b[38;5;226m    \\   /    \u001b[0m Clear          │\n",
            "│ \u001b[38;5;226m     .-.     \u001b[0m \u001b[38;5;154m62\u001b[0m °F\u001b[0m          │ \u001b[38;5;226m     .-.     \u001b[0m \u001b[38;5;226m+73\u001b[0m(\u001b[38;5;226m75\u001b[0m) °F\u001b[0m     │ \u001b[38;5;226m     .-.     \u001b[0m \u001b[38;5;190m69\u001b[0m °F\u001b[0m          │ \u001b[38;5;226m     .-.     \u001b[0m \u001b[38;5;154m64\u001b[0m °F\u001b[0m          │\n",
            "│ \u001b[38;5;226m  ― (   ) ―  \u001b[0m \u001b[1m↙\u001b[0m \u001b[38;5;220m10\u001b[0m-\u001b[38;5;214m13\u001b[0m mph\u001b[0m    │ \u001b[38;5;226m  ― (   ) ―  \u001b[0m \u001b[1m↓\u001b[0m \u001b[38;5;190m7\u001b[0m-\u001b[38;5;226m8\u001b[0m mph\u001b[0m      │ \u001b[38;5;226m  ― (   ) ―  \u001b[0m \u001b[1m↖\u001b[0m \u001b[38;5;190m6\u001b[0m-\u001b[38;5;220m11\u001b[0m mph\u001b[0m     │ \u001b[38;5;226m  ― (   ) ―  \u001b[0m \u001b[1m←\u001b[0m \u001b[38;5;154m5\u001b[0m-\u001b[38;5;220m9\u001b[0m mph\u001b[0m      │\n",
            "│ \u001b[38;5;226m     `-’     \u001b[0m 6 mi\u001b[0m           │ \u001b[38;5;226m     `-’     \u001b[0m 6 mi\u001b[0m           │ \u001b[38;5;226m     `-’     \u001b[0m 6 mi\u001b[0m           │ \u001b[38;5;226m     `-’     \u001b[0m 6 mi\u001b[0m           │\n",
            "│ \u001b[38;5;226m    /   \\    \u001b[0m 0.0 in | 0%\u001b[0m    │ \u001b[38;5;226m    /   \\    \u001b[0m 0.0 in | 0%\u001b[0m    │ \u001b[38;5;226m    /   \\    \u001b[0m 0.0 in | 0%\u001b[0m    │ \u001b[38;5;226m    /   \\    \u001b[0m 0.0 in | 0%\u001b[0m    │\n",
            "└──────────────────────────────┴──────────────────────────────┴──────────────────────────────┴──────────────────────────────┘\n",
            "Location: Perth, Western Australia, Australia [-31.952712,115.8604796]\n",
            "\n",
            "Follow \u001b[46m\u001b[30m@igor_chubin\u001b[0m for wttr.in updates\n",
            "\n",
            "\n",
            "Hello! Welcome to Weather Wise. How can I help you?😊\n",
            "-----------------------------------------------------\n",
            "Please enter your choice (1 - 4):\n",
            "1. Check Current Weather & View Weather Forecast at Perth\n",
            "2. Activities Suggestions at Perth (Today, Tomorrow, Day After Tomorrow)\n",
            "3. Check Other Location \n",
            "4. Exit Program \n",
            "Enter your choice (1-4): 2\n",
            "\n",
            "🤖: Hi! What activities would you like to do in Perth, and when (today, tomorrow, after-tomorrow): Running tomorrow\n",
            "🤖 Here's your activity suggestion:\n",
            "\n",
            "📍 Location: Perth\n",
            "📅 Date: Tuesday, 20 May 2025\n",
            "🏃 Activity: Run (Outdoor)\n",
            "\n",
            "🌤️ Weather: ☀️ Sunny\n",
            "🌡️ Min Temp: 12°C | Max Temp: 22°C | Avg Temp: 17°C\n",
            "\n",
            "✅ Suggestion:\n",
            "It's warm outside! Great time for Outdoor - Run.\n",
            "\n",
            "Hello! Welcome to Weather Wise. How can I help you?😊\n",
            "-----------------------------------------------------\n",
            "Please enter your choice (1 - 4):\n",
            "1. Check Current Weather & View Weather Forecast at Perth\n",
            "2. Activities Suggestions at Perth (Today, Tomorrow, Day After Tomorrow)\n",
            "3. Check Other Location \n",
            "4. Exit Program \n",
            "Enter your choice (1-4): 3\n",
            "\n",
            "Zizi, Please enter your new location: Swiss\n",
            "🤖: Your new location is Swiss\n",
            "\n",
            "Hello! Welcome to Weather Wise. How can I help you?😊\n",
            "-----------------------------------------------------\n",
            "Please enter your choice (1 - 4):\n",
            "1. Check Current Weather & View Weather Forecast at Swiss\n",
            "2. Activities Suggestions at Swiss (Today, Tomorrow, Day After Tomorrow)\n",
            "3. Check Other Location \n",
            "4. Exit Program \n",
            "Enter your choice (1-4): 2\n",
            "\n",
            "🤖: Hi! What activities would you like to do in Swiss, and when (today, tomorrow, after-tomorrow): Swimming day after tomorrow\n",
            "🤖 Here's your activity suggestion:\n",
            "\n",
            "📍 Location: Swiss\n",
            "📅 Date: Wednesday, 21 May 2025\n",
            "🏃 Activity: Swim (Outdoor)\n",
            "\n",
            "🌤️ Weather: 🌦️ Light rain\n",
            "🌡️ Min Temp: 4°C | Max Temp: 7°C | Avg Temp: 6°C\n",
            "\n",
            "✅ Suggestion:\n",
            "The weather (🌦️ Light rain) and quite cold outside (6°C) is not suitable for Outdoor - Swim. Maybe you can try some indoor activities!\n",
            "\n",
            "Hello! Welcome to Weather Wise. How can I help you?😊\n",
            "-----------------------------------------------------\n",
            "Please enter your choice (1 - 4):\n",
            "1. Check Current Weather & View Weather Forecast at Swiss\n",
            "2. Activities Suggestions at Swiss (Today, Tomorrow, Day After Tomorrow)\n",
            "3. Check Other Location \n",
            "4. Exit Program \n",
            "Enter your choice (1-4): 4\n",
            "Thankyou! Have a nice day Zizi 🌸\n"
          ]
        }
      ],
      "source": [
        "# Tie everything together here\n",
        "if __name__ == \"__main__\":\n",
        "    title = \"Weather Wise\"\n",
        "    blue_bold = \"\\033[1;94m\"  # 1 for bold, 94 for light blue\n",
        "    color = \"\\033[0m\"\n",
        "\n",
        "    print(\"=\" * 53)\n",
        "    print(\"\" + blue_bold + title.center(51) + color + \"\")\n",
        "    print(\"=\" * 53)\n",
        "\n",
        "    main()"
      ]
    },
    {
      "cell_type": "markdown",
      "id": "fde44479",
      "metadata": {
        "id": "fde44479"
      },
      "source": [
        "## 🧪 Testing and Examples"
      ]
    },
    {
      "cell_type": "code",
      "execution_count": null,
      "id": "4e573901",
      "metadata": {
        "id": "4e573901"
      },
      "outputs": [],
      "source": [
        "# Include sample input/output for each function"
      ]
    },
    {
      "cell_type": "markdown",
      "id": "d2885880",
      "metadata": {
        "id": "d2885880"
      },
      "source": [
        "## 🗂️ AI Prompting Log (Optional)\n",
        "Add markdown cells here summarising prompts used or link to AI conversations in the `ai-conversations/` folder."
      ]
    }
  ],
  "metadata": {
    "language_info": {
      "name": "python"
    },
    "colab": {
      "provenance": [],
      "include_colab_link": true
    },
    "kernelspec": {
      "name": "python3",
      "display_name": "Python 3"
    }
  },
  "nbformat": 4,
  "nbformat_minor": 5
}